{
 "cells": [
  {
   "cell_type": "code",
   "execution_count": 314,
   "metadata": {
    "pycharm": {
     "is_executing": false,
     "name": "#%%\n"
    }
   },
   "outputs": [],
   "source": [
    "import numpy as np\n",
    "import pandas as pd\n",
    "from matplotlib import pyplot as plt\n",
    "from collections import Counter\n",
    "\n",
    "import string\n",
    "\n",
    "import math\n",
    "from itertools import cycle\n",
    "import tqdm"
   ]
  },
  {
   "cell_type": "markdown",
   "metadata": {
    "pycharm": {
     "name": "#%% md\n"
    }
   },
   "source": [
    "Dataset downloaded from https://www.kaggle.com/c/ciphertext-challenge-iii/data"
   ]
  },
  {
   "cell_type": "code",
   "execution_count": 315,
   "metadata": {
    "pycharm": {
     "is_executing": false,
     "name": "#%%\n"
    }
   },
   "outputs": [],
   "source": [
    "DIR_PATH = 'dataset/notracking/cypher/'\n",
    "\n",
    "train_df = pd.read_csv(DIR_PATH + 'train.csv')\n",
    "test_df = pd.read_csv(DIR_PATH + 'test.csv')\n",
    "sub1 = pd.DataFrame({\"ciphertext_id\": test_df['ciphertext_id'],\n",
    "                    \"index\" : 0})\n",
    "sub2 = pd.DataFrame({\"ciphertext_id\": test_df['ciphertext_id'],\n",
    "                    \"index\" : 0})\n"
   ]
  },
  {
   "cell_type": "code",
   "execution_count": 316,
   "metadata": {
    "pycharm": {
     "is_executing": false,
     "name": "#%%\n"
    }
   },
   "outputs": [],
   "source": [
    "train_df['length'] = train_df.text.apply(len)\n",
    "test_df['length'] = test_df.ciphertext.apply(len)"
   ]
  },
  {
   "cell_type": "markdown",
   "metadata": {
    "pycharm": {
     "is_executing": false,
     "name": "#%% md\n"
    }
   },
   "source": [
    "Extract Datasets for all 4 difficulty levels from test_df"
   ]
  },
  {
   "cell_type": "code",
   "execution_count": 317,
   "metadata": {
    "pycharm": {
     "is_executing": false,
     "name": "#%%\n"
    }
   },
   "outputs": [],
   "source": [
    "df_level_1 = test_df[test_df.difficulty == 1]\n",
    "df_level_2 = test_df[test_df.difficulty == 2]\n",
    "df_level_3 = test_df[test_df.difficulty == 3]\n",
    "df_level_4 = test_df[test_df.difficulty == 4]"
   ]
  },
  {
   "cell_type": "code",
   "execution_count": 318,
   "metadata": {
    "pycharm": {
     "is_executing": false,
     "name": "#%%\n"
    }
   },
   "outputs": [],
   "source": [
    "plain_char_counter = Counter(''.join(train_df['text'].values))\n",
    "plain_char_stats = pd.DataFrame([[item[0], item[1]] for item in plain_char_counter.items()], columns = ['Letter', 'Frequency']).sort_values(by='Frequency', ascending=False)\n",
    "\n",
    "cypher_char_counter = Counter(''.join(df_level_1['ciphertext'].values))\n",
    "cypher_char_stats = pd.DataFrame([[item[0], item[1]] for item in cypher_char_counter.items()], columns = ['Letter', 'Frequency']).sort_values(by='Frequency', ascending=False)"
   ]
  },
  {
   "cell_type": "code",
   "execution_count": 319,
   "metadata": {
    "pycharm": {
     "is_executing": false,
     "name": "#%%\n"
    }
   },
   "outputs": [
    {
     "data": {
      "image/png": "[encoded data removed]",
      "text/plain": [
       "<Figure size 1080x360 with 1 Axes>"
      ]
     },
     "metadata": {
      "needs_background": "light"
     },
     "output_type": "display_data"
    }
   ],
   "source": [
    "_, _ = plt.subplots(figsize=(15,5))\n",
    "plt.bar(x = np.array(range(plain_char_stats.shape[0])), height = plain_char_stats['Frequency'].values)\n",
    "plt.bar(x = np.array(range(cypher_char_stats.shape[0])), height = cypher_char_stats['Frequency'].values//4, alpha=.5,color='green')\n",
    "plt.xticks(ticks = np.array(range(plain_char_stats.shape[0])), label = plain_char_stats['Letter'].values)\n",
    "plt.show()"
   ]
  },
  {
   "cell_type": "code",
   "execution_count": 320,
   "metadata": {
    "pycharm": {
     "is_executing": false,
     "name": "#%%\n"
    }
   },
   "outputs": [
    {
     "name": "stdout",
     "output_type": "stream",
     "text": [
      "45272    500\n",
      "95019    400\n",
      "91852    300\n",
      "94408    300\n",
      "35086    300\n",
      "        ... \n",
      "72765    100\n",
      "72768    100\n",
      "72769    100\n",
      "72770    100\n",
      "0        100\n",
      "Name: length, Length: 27158, dtype: int64\n",
      "Unciphered text:\n",
      " Porter: Enter trumpets, sounding, then two Aldermen, Lord  Mayor, Garter, CRANMER, NORFOLK with his marshal's  staff, SUFFOLK, two Noblemen bearing great  standing-bowls for the christening-gifts, then  four Noblemen bearing a canopy, under which the  Duchess of Norfolk, godmother, bearing the child  richly habited in a mantle,  and c., train borne by a  Lady, then follows the Marchioness Dorset, the  other godmother, and Ladies. The troop pass once about the stage, and Garter speaks \n",
      "\n",
      "Ciphered text (level 1):\n",
      " gQUXDoBshspv: Tmfih sdycopxi, raydctrv, ssid sis Pkoihlpr, Bndh  Cyksh, Flvjdd, GHYYQTQ, YSHEAPA vtxw gtw cydwwyw'w  islju, RGJUNWO, jva Reawicdy ftydmdf rvtyf  wjyyhxmr-fevww und xwd nlhhextmtrv-ftjjr, fltm  qskq Ysqkpqtm mipqtrv y nednbd, kmoih vsmrg flt  Cggwdew ee Ysheapa, fahcnfltq, mipqtrv ssi rgtps  qtgwkk lpatxtc tr p llrjkp,  edc n., xhytr qndrt ak e  Byod, jgpr unwpeve xwd Xehbsmempwi Cavidf, xwd  axwdd kecxsjgpv, pmo Ppctii. Ssi jqasf olwi nygt ymsks flt rfevd, lrs Flvjdd wfdloizmXnS8\n",
      "Unciphered text:\n",
      " Enter, from one side, LUCIUS, IACHIMO, and  the Roman Army: from the other side, the  British Army, POSTHUMUS LEONATUS following,  like a poor soldier. They march over and go  out. Then enter again, in skirmish, IACHIMO  and POSTHUMUS LEONATUS he vanquisheth and disarmeth IACHIMO, and then leaves him \n",
      "\n",
      "Ciphered text (level 1):\n",
      " 9]8bAdM4y,HpY6[JRxz4V2dLHy[nz[LI0AJn5?U62T?'.0WabIdspv, uqaq emp wxcp, PKBTYI, HLGWHXS, pmo  xwd Dscyy Ehlk: jhnx xwd axwdd wxcp, xwd  Mvxstww Ydqo, OAWJGGQKR WIEMLXKR qsbkabxmr,  pxjp e fnav inwhxdd. Xwdk qpqnl eupv pmo ke  ngx. Jgpr tmfih yrexm, tr ijtvchel, XYNLXLA  edc BSISSYCTE PTNYEJTE lt ulrgttwwdfl pmo hxrlvcdfl XYNLXLA, edc fltm wipupw whxagksdMpX4mbWPz]sDwXHhA2CQB!)9dp(Xx($SPd'c]vxT6a58k\n"
     ]
    }
   ],
   "source": [
    "print(df_level_1.length.sort_values(ascending=False))\n",
    "#df_level_1.length.describe([.999, .9999])\n",
    "match = train_df[(400 < train_df.length) & (train_df.length <= 500)].text\n",
    "print('Unciphered text:\\n', train_df.loc[13862].text, '\\n\\nCiphered text (level 1):\\n', df_level_1.loc[45272].ciphertext)\n",
    "print('Unciphered text:\\n', train_df.loc[6938].text, '\\n\\nCiphered text (level 1):\\n', df_level_1.loc[95019].ciphertext)"
   ]
  },
  {
   "cell_type": "markdown",
   "metadata": {
    "pycharm": {
     "name": "#%% md\n"
    }
   },
   "source": [
    "There's only one Difficulty Level 1 text with length 500, on index 45272.\n",
    "\n",
    "We could see that the cypher text preserves special characters like comma, space, dot, hypen. Also, and is encoded in different ways so it's not a simple text replacement cypher.\n"
   ]
  },
  {
   "cell_type": "code",
   "execution_count": 321,
   "metadata": {
    "pycharm": {
     "is_executing": false,
     "name": "#%%\n"
    }
   },
   "outputs": [],
   "source": [
    "def decrypt_level_1(ciphertext):\n",
    "    KEY = 'pyle'\n",
    "    KEYLEN = len(KEY)\n",
    "    \n",
    "    key = [ord(t) - ord('a') for t in KEY]\n",
    "    \n",
    "    key_index = 0\n",
    "    plaintext = ''\n",
    "    \n",
    "    for char in ciphertext:\n",
    "        char_position = -1\n",
    "        \n",
    "        if string.ascii_lowercase[:-1].find(char) is not -1 :\n",
    "            char_position = string.ascii_lowercase[:-1].find(char)\n",
    "            char_set = string.ascii_lowercase[:-1]\n",
    "        elif string.ascii_uppercase[:-1].find(char) is not -1:\n",
    "            char_position = string.ascii_uppercase[:-1].find(char)\n",
    "            char_set = string.ascii_uppercase[:-1]\n",
    "        \n",
    "        if char_position is not -1:\n",
    "            p = (char_position - key[key_index]) % 25\n",
    "            pc = char_set[p]\n",
    "            \n",
    "            key_index = (key_index + 1) % KEYLEN\n",
    "        else:\n",
    "            pc = char\n",
    "            \n",
    "        plaintext += pc \n",
    "        \n",
    "    return plaintext\n",
    "\n",
    "def encrypt_level_1(ptext, key_index=0):\n",
    "    KEY = 'pyle'\n",
    "    KEYLEN = len(KEY)\n",
    "    key = [ord(c) - ord('a') for c in 'pyle']\n",
    "    \n",
    "    ctext = ''\n",
    "    \n",
    "    for c in ptext:\n",
    "        pos = 'abcdefghijklmnopqrstuvwxy'.find(c)\n",
    "        if pos != -1:\n",
    "            p = (pos + key[key_index]) % 25\n",
    "            cc = 'abcdefghijklmnopqrstuvwxy'[p]\n",
    "            key_index = (key_index + 1) % KEYLEN\n",
    "        else:\n",
    "            pos = 'ABCDEFGHIJKLMNOPQRSTUVWXY'.find(c)\n",
    "            if pos != -1:\n",
    "                p = (pos + key[key_index]) % 25\n",
    "                cc = 'ABCDEFGHIJKLMNOPQRSTUVWXY'[p]\n",
    "                key_index = (key_index + 1) % KEYLEN\n",
    "            else:\n",
    "                cc = c\n",
    "        ctext += cc\n",
    "    return ctext"
   ]
  },
  {
   "cell_type": "code",
   "execution_count": 322,
   "metadata": {
    "pycharm": {
     "is_executing": false,
     "name": "#%%\n"
    }
   },
   "outputs": [
    {
     "name": "stdout",
     "output_type": "stream",
     "text": [
      "108755\n"
     ]
    }
   ],
   "source": [
    "plain_dict = {}\n",
    "for p_id, row in train_df.iterrows():\n",
    "    text = row['text']\n",
    "    plain_dict[text] = p_id\n",
    "print(len(plain_dict))"
   ]
  },
  {
   "cell_type": "code",
   "execution_count": 323,
   "metadata": {
    "pycharm": {
     "is_executing": false
    }
   },
   "outputs": [
    {
     "name": "stdout",
     "output_type": "stream",
     "text": [
      "Matched 27158   Unmatched 0\n"
     ]
    }
   ],
   "source": [
    "matched, unmatched = 0, 0\n",
    "for c_id, row in df_level_1.iterrows():\n",
    "    decrypted = decrypt_level_1(row['ciphertext'])\n",
    "    found = False\n",
    "    for pad in range(100):\n",
    "        start = pad // 2\n",
    "        end = len(decrypted) - (pad + 1) // 2\n",
    "        plain_pie = decrypted[start:end]\n",
    "        if plain_pie in plain_dict:\n",
    "            p_id = plain_dict[plain_pie]\n",
    "            row = train_df.loc[p_id]\n",
    "            sub1.loc[c_id, 'index'] = train_df.loc[p_id]['index']\n",
    "            matched += 1\n",
    "            found = True\n",
    "            break\n",
    "    if not found:\n",
    "        unmatched += 1\n",
    "        print(decrypted)\n",
    "\n",
    "print(f\"Matched {matched}   Unmatched {unmatched}\")\n",
    "sub1.to_csv(DIR_PATH + 'submit-level-1.csv')"
   ]
  },
  {
   "cell_type": "code",
   "execution_count": 324,
   "metadata": {
    "pycharm": {
     "is_executing": false
    }
   },
   "outputs": [],
   "source": [
    "def rail_pattern(n):\n",
    "    r = list(range(n))\n",
    "    return cycle(r + r[-2:0:-1])\n",
    "\n",
    "def encrypt_level_2(plaintext, rails=21):\n",
    "    p = rail_pattern(rails)\n",
    "    # this relies on key being called in order, guaranteed?\n",
    "    return ''.join(sorted(plaintext, key=lambda i: next(p)))\n",
    "def decrypt_level_2(ciphertext, rails=21):\n",
    "    p = rail_pattern(rails)\n",
    "    indexes = sorted(range(len(ciphertext)), key=lambda i: next(p))\n",
    "    result = [''] * len(ciphertext)\n",
    "    for i, c in zip(indexes, ciphertext):\n",
    "        result[i] = c\n",
    "    return ''.join(result)"
   ]
  },
  {
   "cell_type": "code",
   "execution_count": 325,
   "metadata": {},
   "outputs": [
    {
     "name": "stdout",
     "output_type": "stream",
     "text": [
      "ciphertext_id    ID_aa875b34b\n",
      "index                       0\n",
      "Name: 87221, dtype: object\n"
     ]
    }
   ],
   "source": [
    "print(sub2.loc[87221])"
   ]
  },
  {
   "cell_type": "code",
   "execution_count": 326,
   "metadata": {
    "pycharm": {
     "is_executing": false
    }
   },
   "outputs": [
    {
     "name": "stderr",
     "output_type": "stream",
     "text": [
      "26849it [00:20, 1303.14it/s]\n"
     ]
    },
    {
     "name": "stdout",
     "output_type": "stream",
     "text": [
      "Matched 26849   Unmatched 0\n"
     ]
    }
   ],
   "source": [
    "matched, unmatched = 0, 0\n",
    "for c_id, row in tqdm.tqdm(df_level_2.iterrows()):\n",
    "    decrypted = decrypt_level_1(decrypt_level_2(row['ciphertext']))\n",
    "    found = False\n",
    "    for pad in range(100):\n",
    "        start = pad // 2\n",
    "        end = len(decrypted) - (pad + 1) // 2\n",
    "        plain_pie = decrypted[start:end]\n",
    "        if plain_pie in plain_dict:\n",
    "            p_id = plain_dict[plain_pie]\n",
    "            \n",
    "            sub2.loc[c_id, 'index'] = train_df.loc[p_id]['index']\n",
    "            matched += 1\n",
    "            found = True\n",
    "            break\n",
    "    if not found:\n",
    "        unmatched += 1\n",
    "        print(decrypted)\n",
    "            \n",
    "print(f\"Matched {matched}   Unmatched {unmatched}\")\n",
    "sub2.to_csv(DIR_PATH + 'submit-level-2.csv', index = False)"
   ]
  }
 ],
 "metadata": {
  "kernelspec": {
   "display_name": "Python 3",
   "language": "python",
   "name": "python3"
  },
  "language_info": {
   "codemirror_mode": {
    "name": "ipython",
    "version": 3
   },
   "file_extension": ".py",
   "mimetype": "text/x-python",
   "name": "python",
   "nbconvert_exporter": "python",
   "pygments_lexer": "ipython3",
   "version": "3.7.3"
  },
  "pycharm": {
   "stem_cell": {
    "cell_type": "raw",
    "metadata": {
     "collapsed": false
    },
    "source": []
   }
  }
 },
 "nbformat": 4,
 "nbformat_minor": 2
}
