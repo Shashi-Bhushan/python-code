{
 "cells": [
  {
   "cell_type": "markdown",
   "metadata": {},
   "source": [
    "## Import Libraries\n",
    "\n",
    "Import all the required Libraries"
   ]
  },
  {
   "cell_type": "code",
   "execution_count": 194,
   "metadata": {
    "pycharm": {
     "is_executing": false
    }
   },
   "outputs": [],
   "source": [
    "import os\n",
    "import pandas as pd\n",
    "\n",
    "import re\n",
    "\n",
    "from functools import reduce\n",
    "\n",
    "from sklearn.feature_extraction.text import CountVectorizer\n",
    "from sklearn.feature_extraction.text import TfidfVectorizer\n",
    "from sklearn.model_selection import train_test_split, KFold\n",
    "\n",
    "import nltk\n",
    "import seaborn as sns\n",
    "import matplotlib.pyplot as plt\n",
    "\n",
    "import numpy as np  \n",
    "import re  \n",
    "import nltk \n",
    "\n",
    "import time\n",
    "\n",
    "import math\n",
    " \n",
    "import pickle  \n",
    "from nltk.corpus import stopwords\n",
    "\n",
    "from sklearn.model_selection import cross_val_score\n",
    "from sklearn.preprocessing import LabelEncoder, StandardScaler\n",
    "from sklearn.pipeline import Pipeline\n",
    "\n",
    "from sklearn.feature_selection import SelectFromModel\n",
    "from sklearn.feature_selection import SelectKBest, chi2\n",
    "from sklearn.linear_model import RidgeClassifier\n",
    "from sklearn.linear_model import LogisticRegression\n",
    "from sklearn.pipeline import Pipeline\n",
    "from sklearn.svm import LinearSVC\n",
    "from sklearn.svm import SVC\n",
    "from xgboost import XGBClassifier\n",
    "from sklearn.linear_model import SGDClassifier\n",
    "from sklearn.linear_model import Perceptron\n",
    "from sklearn.linear_model import PassiveAggressiveClassifier\n",
    "from sklearn.naive_bayes import BernoulliNB, ComplementNB, MultinomialNB\n",
    "from sklearn.neighbors import KNeighborsClassifier\n",
    "from sklearn.neighbors import NearestCentroid\n",
    "from sklearn.ensemble import RandomForestClassifier, GradientBoostingClassifier\n",
    "from sklearn.discriminant_analysis import LinearDiscriminantAnalysis\n",
    "from sklearn.utils.extmath import density\n",
    "from sklearn.ensemble import VotingClassifier\n",
    "from sklearn import metrics\n",
    "\n",
    "from sklearn.decomposition import PCA\n",
    "\n",
    "from keras.utils import to_categorical\n",
    "\n",
    "from keras.preprocessing.text import Tokenizer\n",
    "from keras.preprocessing.sequence import pad_sequences\n",
    "\n",
    "from keras.models import Sequential\n",
    "from keras.layers import Dense, Dropout\n",
    "from keras.optimizers import SGD\n",
    "from keras.wrappers.scikit_learn import KerasClassifier\n",
    "from sklearn.model_selection import StratifiedKFold\n",
    "\n",
    "from collections import Counter"
   ]
  },
  {
   "cell_type": "code",
   "execution_count": 195,
   "metadata": {},
   "outputs": [],
   "source": [
    "import warnings\n",
    "warnings.filterwarnings(\"ignore\")"
   ]
  },
  {
   "cell_type": "code",
   "execution_count": 196,
   "metadata": {},
   "outputs": [],
   "source": [
    "# Ablation Experiment (takes 15% of Total Data if ablation is true)\n",
    "ablation = False\n",
    "ablation_ratio = 0.6\n",
    "\n",
    "# how many unique words to use (i.e num rows in embedding vector)\n",
    "max_features = 120000\n",
    "# Percentile of Padding to use with Tokenized words\n",
    "pad_percentile = 50\n",
    "\n",
    "# Use Keras Tokenizer\n",
    "use_tokenizer = False\n",
    "# Use TF IDF Vectorizer\n",
    "use_tf_idf = True\n",
    "\n",
    "# Text Column name\n",
    "text_col = 'lower_text'\n",
    "\n",
    "# How many PCA Components to consider for modelling\n",
    "pca_components = 700\n",
    "\n",
    "# Seed\n",
    "numpy_seed = 478\n",
    "seed = 7\n",
    "# Number of Splits\n",
    "n_splits = 10\n",
    "# Scoring Criteria\n",
    "scoring = 'neg_log_loss'\n",
    "\n",
    "# if Debug is True, loads Subsequent Dataframes from Disk.\n",
    "debug = False\n",
    "\n",
    "train_run = True"
   ]
  },
  {
   "cell_type": "markdown",
   "metadata": {},
   "source": [
    "## Create Train and Test DF\n",
    "\n",
    "Create Training and Testing Data Frames"
   ]
  },
  {
   "cell_type": "code",
   "execution_count": 197,
   "metadata": {
    "pycharm": {
     "name": "#%%\n"
    }
   },
   "outputs": [],
   "source": [
    "# TODO: Automate it to take path based on OS\n",
    "#ROOT_DIR = r'/Users/shabhushan/Desktop/python/python-code/dataset/notracking/participants' # Mac Directory Path\n",
    "ROOT_DIR = r'/home/shashi/Desktop/projects/python-code/dataset/notracking/participants' # Linux Directory Path\n",
    "\n",
    "TRAIN_LABELS = os.path.join(ROOT_DIR, r'train', r'labels', r'labels.csv')\n",
    "TRAIN_TEXT = os.path.join(ROOT_DIR, r'train', r'extracted_data', r'extract_combined.csv')\n",
    "TEST_TEXT = os.path.join(ROOT_DIR, r'test', r'extracted_data', r'extract_combined.csv')\n",
    "\n",
    "SUB = os.path.join(ROOT_DIR, r'sample_submission.csv')"
   ]
  },
  {
   "cell_type": "code",
   "execution_count": 198,
   "metadata": {
    "pycharm": {
     "name": "#%%\n"
    }
   },
   "outputs": [],
   "source": [
    "# read in training and testing data\n",
    "# one dataframe for labels another for text features\n",
    "train_labels_df = pd.read_csv(TRAIN_LABELS, usecols=['document_name','is_fitara'])\n",
    "train_text_df = pd.read_csv(TRAIN_TEXT)\n",
    "test_df = pd.read_csv(TEST_TEXT)\n",
    "\n",
    "# combine labels with text features\n",
    "train_df = pd.merge(\n",
    "    train_labels_df, \n",
    "    train_text_df, \n",
    "    on='document_name', \n",
    "    how='inner'\n",
    ")\n",
    "\n",
    "# remove dataframes that are no longer needed from memory \n",
    "del train_labels_df\n",
    "del train_text_df"
   ]
  },
  {
   "cell_type": "code",
   "execution_count": 199,
   "metadata": {},
   "outputs": [],
   "source": [
    "# Map target variable to number\n",
    "train_df['is_fitara'] = train_df['is_fitara'].map({'No': 0, 'Yes': 1})"
   ]
  },
  {
   "cell_type": "markdown",
   "metadata": {},
   "source": [
    "# Util Functions\n",
    "\n",
    "Some Utility Functions "
   ]
  },
  {
   "cell_type": "code",
   "execution_count": 200,
   "metadata": {},
   "outputs": [],
   "source": [
    "def get_set_from_word_list(lst):\n",
    "    temp_set_list = [set(nltk.word_tokenize(words)) for words in lst]\n",
    "\n",
    "    return reduce(lambda x, y: {*x, *y}, temp_set_list)"
   ]
  },
  {
   "cell_type": "code",
   "execution_count": 201,
   "metadata": {},
   "outputs": [],
   "source": [
    "def get_word_frequency(df):\n",
    "    tokenized_words = [nltk.word_tokenize(words) for words in df]\n",
    "    words_list = reduce(lambda x, y: [*x, *y], tokenized_words)\n",
    "\n",
    "    vectorizer = CountVectorizer(stop_words='english')\n",
    "    vectorizer.fit_transform(words_list)\n",
    "\n",
    "    return pd.DataFrame(vectorizer.vocabulary_.items(), columns=['Text', 'Frequency']).sort_values(by='Frequency', ascending=False)"
   ]
  },
  {
   "cell_type": "code",
   "execution_count": 202,
   "metadata": {},
   "outputs": [],
   "source": [
    "def get_tf_idf(train_df, test_df):\n",
    "    \"\"\"\n",
    "        Get the TF IDF Vector representation for Train and Test data frame\n",
    "        \n",
    "        Creates the TF-IDF Vector, Fit on Training data and transform both training and test data frames\n",
    "        Also, returns feature names for creating a Dataframe later\n",
    "    \"\"\"\n",
    "    vectorizer = TfidfVectorizer(stop_words='english', use_idf=True)\n",
    "    X_train = vectorizer.fit_transform(train_df)\n",
    "    \n",
    "    X_test = vectorizer.transform(test_df)\n",
    "\n",
    "    return X_train, X_test, vectorizer.get_feature_names()"
   ]
  },
  {
   "cell_type": "code",
   "execution_count": 203,
   "metadata": {},
   "outputs": [],
   "source": [
    "def lemmatize(words):\n",
    "    \"\"\"\n",
    "        Break a Sentence into words, remove Stop words keeping only alphabet and numbers, remove\n",
    "        punctuations, comma etc. and at the end Lemmatize the words.\n",
    "    \"\"\"\n",
    "    tokenized_words = nltk.word_tokenize(words)\n",
    "    \n",
    "    # Remove Stop words\n",
    "    words = [word for word in tokenized_words if word.lower() not in stop_words and word.lower() in english_corpus]\n",
    "    \n",
    "    # Remove Digits, Keep only Alpha Numeric words\n",
    "    words = [word for word in words if word.isalnum() and not word.isdigit()]\n",
    "\n",
    "    # Lemmatize based on root word\n",
    "    pos_tags = nltk.pos_tag(words)\n",
    "    return ' '.join([lemma.lemmatize(token, tag_map[tag[0]]) for token, tag in pos_tags])"
   ]
  },
  {
   "cell_type": "code",
   "execution_count": 204,
   "metadata": {},
   "outputs": [],
   "source": [
    "def add_features(df):\n",
    "    \"\"\"\n",
    "        Add few extra features to the Data Frame\n",
    "        \n",
    "        text: convert to string\n",
    "        lower_text: lowers the text\n",
    "        total_length: length of the document\n",
    "        capitals: number of capitals in document\n",
    "        caps_vs_length: ratio of capital words to total length\n",
    "        num_words: number of words in document.\n",
    "        num_unique_words: number of unique words in document\n",
    "        words_vs_unique: number of unique words in document\n",
    "        document_type: whether the docoment is pdf, doc or docx\n",
    "    \"\"\"\n",
    "    df['text'] = df['text'].apply(lambda x:str(x))\n",
    "    df[\"lower_text\"] = df[\"text\"].apply(lambda x: x.lower())\n",
    "    df['total_length'] = df['lower_text'].apply(len)\n",
    "    df['capitals'] = df['lower_text'].apply(lambda comment: sum(1 for c in comment if c.isupper()))\n",
    "    df['caps_vs_length'] = df.apply(lambda row: float(row['capitals'])/float(row['total_length']),\n",
    "                                axis=1)\n",
    "    df['num_words'] = df.text.str.count('\\S+')\n",
    "    df['num_unique_words'] = df['lower_text'].apply(lambda comment: len(set(w for w in comment.split())))\n",
    "    df['words_vs_unique'] = df['num_unique_words'] / df['num_words'] \n",
    "    df['document_type'] = df['document_name'].apply(lambda val: val.split(\".\")[-1])\n",
    "    \n",
    "    return df"
   ]
  },
  {
   "cell_type": "code",
   "execution_count": 205,
   "metadata": {},
   "outputs": [
    {
     "name": "stdout",
     "output_type": "stream",
     "text": [
      "CPU times: user 6 µs, sys: 0 ns, total: 6 µs\n",
      "Wall time: 8.82 µs\n"
     ]
    }
   ],
   "source": [
    "%%time\n",
    "\n",
    "def get_top_words_list(df):\n",
    "    word_list = []\n",
    "\n",
    "    df['lower_text'].map(lambda row: word_list.extend(row.split()))\n",
    "\n",
    "    counter_df = pd.DataFrame.from_dict(Counter(word_list), orient='index').reset_index()\n",
    "\n",
    "    counter_df.columns = ['word', 'frequency']\n",
    "\n",
    "    return counter_df.sort_values(by = 'frequency', ascending = False)\n",
    "\n",
    "def get_top_words(df):\n",
    "    # Segregated Positive and Negative classes\n",
    "    top_counter_df_no = get_top_words_list(df[df.is_fitara == 0])\n",
    "    top_counter_df_yes = get_top_words_list(df[df.is_fitara == 1])\n",
    "    \n",
    "    # Fetch Words in Negative class, which are not in Positive class\n",
    "    exclusive_no = set(top_counter_df_no['word'].values) - set(top_counter_df_yes['word'].values)\n",
    "    # Fetch Words in Positive class, which are not in Negative class\n",
    "    exclusive_yes = set(top_counter_df_yes['word'].values) - set(top_counter_df_no['word'].values)\n",
    "    \n",
    "    # English Words Corpus\n",
    "    english_words = set(nltk.corpus.words.words())\n",
    "    \n",
    "    # Keep valid english words only, remove random words\n",
    "    exclusive_no = [word for word in exclusive_no if word in english_words]\n",
    "    exclusive_yes = [word for word in exclusive_yes if word in english_words]\n",
    "    \n",
    "    # Get the Frequency of corresponding words from Original Dataframe\n",
    "    exclusive_no_df = top_counter_df_no[top_counter_df_no['word'].isin(exclusive_no)]\n",
    "    exclusive_yes_df = top_counter_df_yes[top_counter_df_yes['word'].isin(exclusive_yes)]\n",
    "    \n",
    "    return exclusive_no_df, exclusive_yes_df"
   ]
  },
  {
   "cell_type": "code",
   "execution_count": 206,
   "metadata": {},
   "outputs": [],
   "source": [
    "def add_percentile_features(df):\n",
    "    df['percentile_99'] = df[text_col].apply(get_positive_words_99)\n",
    "    df['percentile_95'] = df[text_col].apply(get_positive_words_95)\n",
    "    df['percentile_90'] = df[text_col].apply(get_positive_words_90)\n",
    "    df['percentile_85'] = df[text_col].apply(get_positive_words_85)\n",
    "    df['percentile_80'] = df[text_col].apply(get_positive_words_80)\n",
    "    df['percentile_75'] = df[text_col].apply(get_positive_words_75)\n",
    "    df['percentile_70'] = df[text_col].apply(get_positive_words_70)\n",
    "    df['percentile_65'] = df[text_col].apply(get_positive_words_65)\n",
    "    df['percentile_60'] = df[text_col].apply(get_positive_words_60)\n",
    "    df['percentile_55'] = df[text_col].apply(get_positive_words_55)\n",
    "    df['percentile_50'] = df[text_col].apply(get_positive_words_50)\n",
    "    \n",
    "    return df"
   ]
  },
  {
   "cell_type": "markdown",
   "metadata": {},
   "source": [
    "## Add Basic Derived Features"
   ]
  },
  {
   "cell_type": "code",
   "execution_count": 207,
   "metadata": {},
   "outputs": [],
   "source": [
    "# Add derived features on Train dataframe\n",
    "train_df = add_features(train_df)\n",
    "test_df = add_features(test_df)"
   ]
  },
  {
   "cell_type": "markdown",
   "metadata": {},
   "source": [
    "## NLTK Tokenization and Lemmatization\n",
    "\n",
    "First, we need to remove the stop words, punctuation characters and all other special characters from the text.\n",
    "Then, we need to lemmatize the word to it's root form."
   ]
  },
  {
   "cell_type": "code",
   "execution_count": 208,
   "metadata": {},
   "outputs": [],
   "source": [
    "from nltk.stem.wordnet import WordNetLemmatizer\n",
    "from collections import defaultdict\n",
    "from nltk.corpus import wordnet as wn\n",
    "\n",
    "# English Stop Words list\n",
    "stop_words = set(nltk.corpus.stopwords.words('english'))\n",
    "english_corpus = set(nltk.corpus.words.words())\n",
    "\n",
    "# Create a Tag Dictionary, Default tag is Noun\n",
    "tag_map = defaultdict(lambda : wn.NOUN)\n",
    "tag_map['J'] = wn.ADJ\n",
    "tag_map['V'] = wn.VERB\n",
    "tag_map['R'] = wn.ADV\n",
    "\n",
    "# Get a Lemmatizer\n",
    "lemma = WordNetLemmatizer()"
   ]
  },
  {
   "cell_type": "code",
   "execution_count": 209,
   "metadata": {},
   "outputs": [
    {
     "name": "stdout",
     "output_type": "stream",
     "text": [
      "CPU times: user 3min 44s, sys: 129 ms, total: 3min 45s\n",
      "Wall time: 3min 45s\n"
     ]
    }
   ],
   "source": [
    "%%time\n",
    "\n",
    "# Caution: will take time to lemmatize whole Data\n",
    "train_df[text_col] = train_df[text_col].apply(lemmatize)\n",
    "test_df[text_col] = test_df[text_col].apply(lemmatize)"
   ]
  },
  {
   "cell_type": "code",
   "execution_count": 210,
   "metadata": {},
   "outputs": [],
   "source": [
    "\n",
    "\n",
    "# Since, we have fetched document type from name and lower case text from text, we could safely remove these two columns\n",
    "to_drop = ['text']\n",
    "train_df.drop(to_drop, axis=1, inplace=True)\n",
    "test_df.drop(to_drop, axis=1, inplace=True)"
   ]
  },
  {
   "cell_type": "code",
   "execution_count": 211,
   "metadata": {},
   "outputs": [],
   "source": [
    "train_df.to_csv(os.path.join(ROOT_DIR, r'train', r'train.csv'))\n",
    "test_df.to_csv(os.path.join(ROOT_DIR, r'test', r'test.csv'))"
   ]
  },
  {
   "cell_type": "code",
   "execution_count": 212,
   "metadata": {},
   "outputs": [],
   "source": [
    "if debug:\n",
    "    train_df = pd.read_csv(os.path.join(ROOT_DIR, r'train', r'train.csv'))\n",
    "    test_df = pd.read_csv(os.path.join(ROOT_DIR, r'test', r'test.csv'))"
   ]
  },
  {
   "cell_type": "markdown",
   "metadata": {},
   "source": [
    "## EDA\n",
    "\n",
    "Primilinary Exploratory Data Analysis"
   ]
  },
  {
   "cell_type": "markdown",
   "metadata": {},
   "source": [
    "Since Positive and Negative classes are size 71% and 29% respectively. Hence, no severe class imbalance."
   ]
  },
  {
   "cell_type": "code",
   "execution_count": 213,
   "metadata": {
    "pycharm": {
     "name": "#%%\n"
    }
   },
   "outputs": [
    {
     "data": {
      "text/plain": [
       "0    0.713089\n",
       "1    0.286911\n",
       "Name: is_fitara, dtype: float64"
      ]
     },
     "execution_count": 213,
     "metadata": {},
     "output_type": "execute_result"
    }
   ],
   "source": [
    "\n",
    "# confirm class distribution\n",
    "# is_fitara - yes: ~29%; no: ~71%\n",
    "train_df['is_fitara'].value_counts(normalize=True)\n"
   ]
  },
  {
   "cell_type": "code",
   "execution_count": 214,
   "metadata": {},
   "outputs": [],
   "source": [
    "# Plot top 25 words \n",
    "#plt.figure(figsize=(20,12))\n",
    "#sns.barplot(x = 'word', y = 'frequency', data = exclusive_no_df.head(25))\n",
    "#plt.plot()\n",
    "#plt.figure(figsize=(20,12))\n",
    "#sns.barplot(x = 'word', y = 'frequency', data = exclusive_yes_df.head(25))\n",
    "#plt.plot()"
   ]
  },
  {
   "cell_type": "markdown",
   "metadata": {},
   "source": [
    "### Handle Categorical Variables"
   ]
  },
  {
   "cell_type": "code",
   "execution_count": 215,
   "metadata": {},
   "outputs": [],
   "source": [
    "# Create dummies\n",
    "train_df = pd.concat([train_df, pd.get_dummies(train_df['document_type'], prefix='document_type')], axis=1)\n",
    "train_df.drop(['document_type'], axis=1, inplace=True)\n",
    "\n",
    "# Create dummies\n",
    "test_df = pd.concat([test_df, pd.get_dummies(test_df['document_type'], prefix='document_type')], axis=1)\n",
    "test_df.drop(['document_type'], axis=1, inplace=True)"
   ]
  },
  {
   "cell_type": "markdown",
   "metadata": {},
   "source": [
    "### Ablation\n",
    "If ablation is true, use only certain percentage of data for calculations"
   ]
  },
  {
   "cell_type": "code",
   "execution_count": 216,
   "metadata": {},
   "outputs": [],
   "source": [
    "if ablation:\n",
    "    train_df_no = train_df[train_df.is_fitara == 0]\n",
    "    train_df_yes = train_df[train_df.is_fitara == 1]\n",
    "\n",
    "    # Get 15% of total Records for Ablation\n",
    "    train_df_no_ablation = train_df_no.loc[0:int(len(train_df_no) * ablation_ratio)]\n",
    "    train_df_yes_ablation = train_df_yes.loc[0:int(len(train_df_yes) * ablation_ratio)]\n",
    "    \n",
    "    # Shuffle rows and reset index\n",
    "    train_df = pd.concat([train_df_yes_ablation, train_df_no_ablation]).sample(frac=1).reset_index(drop=True)"
   ]
  },
  {
   "cell_type": "markdown",
   "metadata": {},
   "source": [
    "### Train Test Split\n",
    "Split into Test and training data sets"
   ]
  },
  {
   "cell_type": "code",
   "execution_count": 217,
   "metadata": {},
   "outputs": [],
   "source": [
    "X = train_df.drop(['document_name', 'is_fitara'], axis=1)\n",
    "y = train_df['is_fitara']\n",
    "\n",
    "X_train, X_test, y_train, y_test = train_test_split(X, y, test_size=0.2)"
   ]
  },
  {
   "cell_type": "markdown",
   "metadata": {},
   "source": [
    "### TF IDF\n",
    "Create TF IDF Vector representation for Train and Test datasets"
   ]
  },
  {
   "cell_type": "code",
   "execution_count": 218,
   "metadata": {},
   "outputs": [],
   "source": [
    "if use_tf_idf:\n",
    "    X_train_tf, X_test_tf, feature_names = get_tf_idf(X_train[text_col], X_test[text_col])\n",
    "\n",
    "    X_train_df = pd.DataFrame(X_train_tf.toarray(), columns = feature_names, index = X_train.index)\n",
    "    X_test_df = pd.DataFrame(X_test_tf.toarray(), columns = feature_names, index = X_test.index)\n",
    "\n",
    "    X_train = pd.concat([X_train, X_train_df], axis=1)\n",
    "    X_test = pd.concat([X_test, X_test_df], axis=1)\n",
    "\n",
    "    X_train.drop([text_col], axis=1, inplace=True)\n",
    "    X_test.drop([text_col], axis=1, inplace=True)"
   ]
  },
  {
   "cell_type": "markdown",
   "metadata": {},
   "source": [
    "### Standard Scaler Transformation"
   ]
  },
  {
   "cell_type": "code",
   "execution_count": 219,
   "metadata": {},
   "outputs": [],
   "source": [
    "# Scale the columns\n",
    "scaler = StandardScaler()\n",
    "\n",
    "if use_tokenizer:\n",
    "    cols = X_train.columns\n",
    "elif use_tf_idf:\n",
    "    cols = ['total_length','capitals','caps_vs_length','num_words','num_unique_words','words_vs_unique']\n",
    "\n",
    "train_features = X_train[cols].values\n",
    "test_features = X_test[cols].values\n",
    "\n",
    "scaler.fit(train_features)\n",
    "\n",
    "train_features = scaler.transform(train_features)\n",
    "test_features = scaler.transform(test_features)\n",
    "\n",
    "X_train[cols] = pd.DataFrame(train_features, columns = cols, index = X_train.index)\n",
    "X_test[cols] = pd.DataFrame(test_features, columns = cols, index = X_test.index)"
   ]
  },
  {
   "cell_type": "code",
   "execution_count": 220,
   "metadata": {},
   "outputs": [],
   "source": [
    "X_train.to_csv(os.path.join(ROOT_DIR, r'train', r'train_pad.csv'), index=False)\n",
    "X_test.to_csv(os.path.join(ROOT_DIR, r'test', r'test_pad.csv'), index=False)"
   ]
  },
  {
   "cell_type": "code",
   "execution_count": 221,
   "metadata": {},
   "outputs": [],
   "source": [
    "if debug:\n",
    "    X_train = pd.read_csv(os.path.join(ROOT_DIR, r'train', r'train_pad.csv'), index_col='Unnamed: 0')\n",
    "    X_test = pd.read_csv(os.path.join(ROOT_DIR, r'test', r'test_pad.csv'), index_col='Unnamed: 0')"
   ]
  },
  {
   "cell_type": "markdown",
   "metadata": {},
   "source": [
    "### Principle Component Analysis"
   ]
  },
  {
   "cell_type": "code",
   "execution_count": 222,
   "metadata": {},
   "outputs": [
    {
     "name": "stdout",
     "output_type": "stream",
     "text": [
      "Index(['aa', 'abandon', 'abase', 'abate', 'abatement', 'abattoir', 'abb',\n",
      "       'abbreviation', 'abdominal', 'aberrant',\n",
      "       ...\n",
      "       'zero', 'zimbabwe', 'zinc', 'zip', 'zone', 'zoning', 'zoo', 'zoom',\n",
      "       'zoonotic', 'zoster'],\n",
      "      dtype='object', length=10585)\n",
      "Variance Explained by Model is 0.9930248091267025\n"
     ]
    }
   ],
   "source": [
    "standard_columns = ['total_length','capitals','caps_vs_length','num_words','num_unique_words','words_vs_unique', \n",
    "        'doc', 'docx', 'pdf']\n",
    "    #, 'percentile_99', 'percentile_95', 'percentile_90',\n",
    "       #'percentile_85', 'percentile_80', 'percentile_75', 'percentile_70',\n",
    "       #'percentile_65', 'percentile_60', 'percentile_55', 'percentile_50']\n",
    "\n",
    "cols = X_train.columns[len(standard_columns):]\n",
    "\n",
    "print(cols)\n",
    "pca = PCA(n_components = 500)\n",
    "\n",
    "pca.fit(X_train[cols])\n",
    "\n",
    "X_train_pca = pd.DataFrame(pca.transform(X_train[cols]))\n",
    "X_test_pca = pd.DataFrame(pca.transform(X_test[cols]))\n",
    "\n",
    "X_train_pca.index = X_train.index\n",
    "X_test_pca.index = X_test.index\n",
    "\n",
    "print(f\"Variance Explained by Model is {pca.explained_variance_ratio_.cumsum()[-1]}\")"
   ]
  },
  {
   "cell_type": "code",
   "execution_count": 223,
   "metadata": {},
   "outputs": [],
   "source": [
    "# Remove Old Columns\n",
    "X_train.drop(cols, axis=1, inplace=True)\n",
    "X_test.drop(cols, axis=1, inplace=True)\n",
    "\n",
    "# Append PCA Columns\n",
    "X_train = pd.concat([X_train, X_train_pca], axis=1)\n",
    "X_test = pd.concat([X_test, X_test_pca], axis=1)"
   ]
  },
  {
   "cell_type": "code",
   "execution_count": 224,
   "metadata": {},
   "outputs": [],
   "source": [
    "# Save PCA Dataframe to Disk\n",
    "\n",
    "X_train.to_csv(os.path.join(ROOT_DIR, r'train', r'train_pca_2.csv'))\n",
    "y_train.to_csv(os.path.join(ROOT_DIR, r'train', r'train_label_pca_2.csv'))\n",
    "\n",
    "X_test.to_csv(os.path.join(ROOT_DIR, r'test', r'test_pca.csv'))\n",
    "y_test.to_csv(os.path.join(ROOT_DIR, r'test', r'test_label_pca.csv'))"
   ]
  },
  {
   "cell_type": "code",
   "execution_count": 225,
   "metadata": {},
   "outputs": [],
   "source": [
    "if debug:\n",
    "    X_train = pd.read_csv(os.path.join(ROOT_DIR, r'train', r'train_pca.csv'), index_col='Unnamed: 0')\n",
    "    y_train = pd.read_csv(os.path.join(ROOT_DIR, r'train', r'train_label_pca.csv'), header=None, index_col='Unnamed: 0')\n",
    "\n",
    "    X_test = pd.read_csv(os.path.join(ROOT_DIR, r'test', r'test_pca.csv'), index_col='Unnamed: 0')\n",
    "    y_test = pd.read_csv(os.path.join(ROOT_DIR, r'test', r'test_label_pca.csv'), header=None, index_col='Unnamed: 0')"
   ]
  },
  {
   "cell_type": "markdown",
   "metadata": {},
   "source": [
    "### Model Building\n",
    "First Try fitting a Simple Neural Network for benchmark"
   ]
  },
  {
   "cell_type": "markdown",
   "metadata": {},
   "source": [
    " "
   ]
  },
  {
   "cell_type": "markdown",
   "metadata": {},
   "source": [
    "Let's check cross validation score for different algorithms on training Data"
   ]
  },
  {
   "cell_type": "code",
   "execution_count": 226,
   "metadata": {},
   "outputs": [
    {
     "name": "stdout",
     "output_type": "stream",
     "text": [
      "XGB :: -0.396334 ( +- 0.074692) \n",
      " Log Loss : 0.308397\n",
      " Accuracy : 86.910000\n",
      "\n",
      "GBC :: -0.380622 ( +- 0.071621) \n",
      " Log Loss : 0.352752\n",
      " Accuracy : 85.860000\n",
      "\n"
     ]
    },
    {
     "data": {
      "image/png": "[encoded data removed]",
      "text/plain": [
       "<Figure size 432x288 with 1 Axes>"
      ]
     },
     "metadata": {
      "needs_background": "light"
     },
     "output_type": "display_data"
    }
   ],
   "source": [
    "\"\"\"\n",
    "If we use sklearn.metrics.log_loss standalone, i.e. log_loss(y_true,y_pred), \n",
    "it generates a positive score -- the smaller the score, the better the performance.\n",
    "\n",
    "However, if we use 'neg_log_loss' as a scoring scheme as in 'cross_val_score\", \n",
    "the score is negative -- the bigger the score, the better the performance.\n",
    "\"\"\"\n",
    "\n",
    "from sklearn.tree import DecisionTreeClassifier\n",
    "from sklearn.naive_bayes import GaussianNB\n",
    "from xgboost.sklearn import XGBClassifier\n",
    "from sklearn import model_selection\n",
    "from sklearn.model_selection import cross_val_predict\n",
    "\n",
    "\n",
    "estimators = []\n",
    "\n",
    "#estimators.append(('LR', LogisticRegression()))\n",
    "#estimators.append(('NB', BernoulliNB(alpha=.01)))\n",
    "#estimators.append(('LDA', LinearDiscriminantAnalysis()))\n",
    "#estimators.append(('KNN', KNeighborsClassifier()))\n",
    "#estimators.append(('TREE', DecisionTreeClassifier()))\n",
    "#estimators.append(('CART', RandomForestClassifier(n_estimators=100)))\n",
    "#estimators.append(('NB', GaussianNB()))\n",
    "#estimators.append(('SVM', SVC(probability=True)))\n",
    "estimators.append(('XGB', XGBClassifier()))\n",
    "estimators.append(('GBC', GradientBoostingClassifier(n_estimators=100)))\n",
    "\n",
    "# evaluate each model in turn\n",
    "results = []\n",
    "names = []\n",
    "for name, model in estimators:\n",
    "    kfold = model_selection.KFold(n_splits=10, random_state=7, shuffle=True)\n",
    "    cv_results = model_selection.cross_val_score(model, X_train, y_train, cv=kfold, scoring='neg_log_loss', n_jobs=-1)\n",
    "    #cv_results = model_selection.cross_val_predict(model, X_train, y_train, cv=kfold)\n",
    "    \n",
    "    results.append(cv_results)\n",
    "    names.append(name)\n",
    "    \n",
    "    model.fit(X_train, y_train)\n",
    "    \n",
    "    log_loss = metrics.log_loss(y_test, model.predict_proba(X_test))\n",
    "    accuracy = metrics.accuracy_score(y_test, model.predict(X_test))\n",
    "    \n",
    "    msg = \"%s :: %f ( +- %f) \\n Log Loss : %f\\n Accuracy : %f\\n\" % (name, cv_results.mean(), cv_results.std(), log_loss, round(accuracy*100, 2))\n",
    "    print(msg)\n",
    "    \n",
    "# boxplot algorithm comparison\n",
    "fig = plt.figure()\n",
    "fig.suptitle('Algorithm Comparison')\n",
    "ax = fig.add_subplot(111)\n",
    "plt.boxplot(results)\n",
    "ax.set_xticklabels(names)\n",
    "plt.show()"
   ]
  },
  {
   "cell_type": "code",
   "execution_count": 227,
   "metadata": {},
   "outputs": [
    {
     "data": {
      "text/plain": [
       "0.31238222213878786"
      ]
     },
     "execution_count": 227,
     "metadata": {},
     "output_type": "execute_result"
    }
   ],
   "source": [
    "df = pd.DataFrame(estimators[0][1].predict_proba(X_test)).iloc[:, 1].apply(lambda val: 0.99 if val > 0.95 else val)\n",
    "\n",
    "#metrics.log_loss(y_test, df)\n",
    "#df.apply(lambda val: 0.01)\n",
    "#df = pd.DataFrame(estimators[0][1].predict_proba(X_test)).iloc[:, 1].apply(lambda val : 0.01 if val < 0.05 else val)\n",
    "df = df.apply(lambda val : 0.01 if val < 0.05 else val)\n",
    "\n",
    "metrics.log_loss(y_test, df)"
   ]
  },
  {
   "cell_type": "code",
   "execution_count": 228,
   "metadata": {},
   "outputs": [
    {
     "data": {
      "text/html": [
       "<div>\n",
       "<style scoped>\n",
       "    .dataframe tbody tr th:only-of-type {\n",
       "        vertical-align: middle;\n",
       "    }\n",
       "\n",
       "    .dataframe tbody tr th {\n",
       "        vertical-align: top;\n",
       "    }\n",
       "\n",
       "    .dataframe thead th {\n",
       "        text-align: right;\n",
       "    }\n",
       "</style>\n",
       "<table border=\"1\" class=\"dataframe\">\n",
       "  <thead>\n",
       "    <tr style=\"text-align: right;\">\n",
       "      <th></th>\n",
       "      <th>Prediction No</th>\n",
       "      <th>Prediction Yes</th>\n",
       "    </tr>\n",
       "  </thead>\n",
       "  <tbody>\n",
       "    <tr>\n",
       "      <td>Actual No</td>\n",
       "      <td>131</td>\n",
       "      <td>8</td>\n",
       "    </tr>\n",
       "    <tr>\n",
       "      <td>Actual Yes</td>\n",
       "      <td>17</td>\n",
       "      <td>35</td>\n",
       "    </tr>\n",
       "  </tbody>\n",
       "</table>\n",
       "</div>"
      ],
      "text/plain": [
       "            Prediction No  Prediction Yes\n",
       "Actual No             131               8\n",
       "Actual Yes             17              35"
      ]
     },
     "execution_count": 228,
     "metadata": {},
     "output_type": "execute_result"
    }
   ],
   "source": [
    "\n",
    "pd.DataFrame(metrics.confusion_matrix(y_test.values, estimators[0][1].predict(X_test)), \n",
    "             columns = [\"Prediction No\",\"Prediction Yes\"], index=[\"Actual No\", \"Actual Yes\"])\n",
    "\n",
    "#print(metrics.accuracy_score(y_test.values, estimators[2][1].predict(X_test)))\n",
    "#print(metrics.log_loss(y_test.values, estimators[4][1].predict_proba(X_test)))\n",
    "#math.exp(-metrics.log_loss(y_test.values, estimators[5][1].predict_proba(X_test)))\n",
    "\n",
    "#y_pred = estimators[2][1].predict(X_test)\n",
    "#metrics.roc_curve(y_test.values, y_pred)\n",
    "#estimators[2][1].predict_proba(X_test)"
   ]
  },
  {
   "cell_type": "code",
   "execution_count": 229,
   "metadata": {},
   "outputs": [
    {
     "name": "stdout",
     "output_type": "stream",
     "text": [
      "Ensemble: -0.380267 (+/- 0.070440)\n",
      "0.3244317985322947\n",
      "0.8691099476439791\n"
     ]
    },
    {
     "data": {
      "text/html": [
       "<div>\n",
       "<style scoped>\n",
       "    .dataframe tbody tr th:only-of-type {\n",
       "        vertical-align: middle;\n",
       "    }\n",
       "\n",
       "    .dataframe tbody tr th {\n",
       "        vertical-align: top;\n",
       "    }\n",
       "\n",
       "    .dataframe thead th {\n",
       "        text-align: right;\n",
       "    }\n",
       "</style>\n",
       "<table border=\"1\" class=\"dataframe\">\n",
       "  <thead>\n",
       "    <tr style=\"text-align: right;\">\n",
       "      <th></th>\n",
       "      <th>Prediction No</th>\n",
       "      <th>Prediction Yes</th>\n",
       "    </tr>\n",
       "  </thead>\n",
       "  <tbody>\n",
       "    <tr>\n",
       "      <td>Actual No</td>\n",
       "      <td>133</td>\n",
       "      <td>6</td>\n",
       "    </tr>\n",
       "    <tr>\n",
       "      <td>Actual Yes</td>\n",
       "      <td>19</td>\n",
       "      <td>33</td>\n",
       "    </tr>\n",
       "  </tbody>\n",
       "</table>\n",
       "</div>"
      ],
      "text/plain": [
       "            Prediction No  Prediction Yes\n",
       "Actual No             133               6\n",
       "Actual Yes             19              33"
      ]
     },
     "execution_count": 229,
     "metadata": {},
     "output_type": "execute_result"
    }
   ],
   "source": [
    "# create the ensemble model\n",
    "ensemble = VotingClassifier(estimators, voting='soft')\n",
    "\n",
    "kfold = model_selection.KFold(n_splits=10, random_state=7, shuffle=True)\n",
    "cv_results = cross_val_score(ensemble, X_train.values, y_train, cv=kfold, scoring='neg_log_loss', n_jobs=-1) \n",
    "\n",
    "print(\"%s: %f (+/- %f)\" % (\"Ensemble\", cv_results.mean(), cv_results.std()))\n",
    "\n",
    "ensemble.fit(X_train, y_train)\n",
    "\n",
    "print(metrics.log_loss(y_test, ensemble.predict_proba(X_test)))\n",
    "print(metrics.accuracy_score(y_test, ensemble.predict(X_test)))\n",
    "\n",
    "pd.DataFrame(metrics.confusion_matrix(y_test.values, ensemble.predict(X_test)), \n",
    "             columns = [\"Prediction No\",\"Prediction Yes\"], index=[\"Actual No\", \"Actual Yes\"])\n"
   ]
  },
  {
   "cell_type": "code",
   "execution_count": 230,
   "metadata": {},
   "outputs": [
    {
     "data": {
      "text/plain": [
       "0.32426554759986526"
      ]
     },
     "execution_count": 230,
     "metadata": {},
     "output_type": "execute_result"
    }
   ],
   "source": [
    "df = pd.DataFrame(ensemble.predict_proba(X_test)).iloc[:, 1].apply(lambda val: 0.99 if val > 0.95 else val)\n",
    "\n",
    "#metrics.log_loss(y_test, df)\n",
    "#df.apply(lambda val: 0.01)\n",
    "#df = pd.DataFrame(estimators[0][1].predict_proba(X_test)).iloc[:, 1].apply(lambda val : 0.01 if val < 0.05 else val)\n",
    "#df = df.apply(lambda val : 0.01 if val < 0.05 else val)\n",
    "\n",
    "metrics.log_loss(y_test, df)"
   ]
  },
  {
   "cell_type": "markdown",
   "metadata": {},
   "source": [
    "# Create Submission File"
   ]
  },
  {
   "cell_type": "code",
   "execution_count": 231,
   "metadata": {},
   "outputs": [
    {
     "name": "stdout",
     "output_type": "stream",
     "text": [
      "CPU times: user 3min 55s, sys: 240 ms, total: 3min 55s\n",
      "Wall time: 3min 55s\n"
     ]
    }
   ],
   "source": [
    "%%time\n",
    "train_labels_df = pd.read_csv(TRAIN_LABELS, usecols=['document_name','is_fitara'])\n",
    "train_text_df = pd.read_csv(TRAIN_TEXT)\n",
    "test_df = pd.read_csv(TEST_TEXT)\n",
    "\n",
    "# combine labels with text features\n",
    "train_df = pd.merge(\n",
    "    train_labels_df, \n",
    "    train_text_df, \n",
    "    on='document_name', \n",
    "    how='inner'\n",
    ")\n",
    "\n",
    "# remove dataframes that are no longer needed from memory \n",
    "del train_labels_df\n",
    "del train_text_df\n",
    "\n",
    "train_df['is_fitara'] = train_df['is_fitara'].map({'No': 0, 'Yes': 1})\n",
    "\n",
    "# Add derived features on Train dataframe\n",
    "train_df = add_features(train_df)\n",
    "test_df = add_features(test_df)\n",
    "\n",
    "train_df[text_col] = train_df[text_col].apply(lemmatize)\n",
    "test_df[text_col] = test_df[text_col].apply(lemmatize)\n",
    "\n",
    "to_drop = ['text']\n",
    "train_df.drop(to_drop, axis=1, inplace=True)\n",
    "test_df.drop(to_drop, axis=1, inplace=True)\n",
    "\n",
    "# Create dummies\n",
    "train_df = pd.concat([train_df, pd.get_dummies(train_df['document_type'], prefix='document_type')], axis=1)\n",
    "train_df.drop(['document_type'], axis=1, inplace=True)\n",
    "\n",
    "# Create dummies\n",
    "test_df = pd.concat([test_df, pd.get_dummies(test_df['document_type'], prefix='document_type')], axis=1)\n",
    "test_df.drop(['document_type'], axis=1, inplace=True)\n",
    "\n",
    "X_train = train_df.drop(['document_name', 'is_fitara'], axis=1)\n",
    "y_train = train_df['is_fitara']\n",
    "\n",
    "X_test = test_df.drop(['document_name'], axis=1)\n",
    "\n",
    "X_train_tf, X_test_tf, feature_names = get_tf_idf(X_train[text_col], X_test[text_col])\n",
    "\n",
    "X_train_df = pd.DataFrame(X_train_tf.toarray(), columns = feature_names, index = X_train.index)\n",
    "X_test_df = pd.DataFrame(X_test_tf.toarray(), columns = feature_names, index = X_test.index)\n",
    "\n",
    "X_train = pd.concat([X_train, X_train_df], axis=1)\n",
    "X_test = pd.concat([X_test, X_test_df], axis=1)\n",
    "\n",
    "X_train.drop([text_col], axis=1, inplace=True)\n",
    "X_test.drop([text_col], axis=1, inplace=True)"
   ]
  },
  {
   "cell_type": "code",
   "execution_count": 232,
   "metadata": {},
   "outputs": [],
   "source": [
    "# Save PCA Dataframe to Disk\n",
    "\n",
    "X_train.to_csv(os.path.join(ROOT_DIR, r'train', r'final_train_X.csv'))\n",
    "y_train.to_csv(os.path.join(ROOT_DIR, r'train', r'final_train_label_X.csv'))\n",
    "\n",
    "X_test.to_csv(os.path.join(ROOT_DIR, r'test', r'final_test_X.csv'))"
   ]
  },
  {
   "cell_type": "code",
   "execution_count": 233,
   "metadata": {},
   "outputs": [],
   "source": [
    "# Scale the columns\n",
    "scaler = StandardScaler()\n",
    "\n",
    "# Scale Features\n",
    "cols = ['total_length','capitals','caps_vs_length','num_words','num_unique_words','words_vs_unique', \n",
    "'document_type_doc', 'document_type_docx', 'document_type_pdf']\n",
    "\n",
    "train_features = X_train[cols].values\n",
    "test_features = X_test[cols].values\n",
    "\n",
    "scaler.fit(train_features)\n",
    "\n",
    "train_features = scaler.transform(train_features)\n",
    "test_features = scaler.transform(test_features)\n",
    "\n",
    "X_train[cols] = pd.DataFrame(train_features, columns = cols, index = X_train.index)\n",
    "X_test[cols] = pd.DataFrame(test_features, columns = cols, index = X_test.index)"
   ]
  },
  {
   "cell_type": "code",
   "execution_count": 234,
   "metadata": {},
   "outputs": [
    {
     "name": "stdout",
     "output_type": "stream",
     "text": [
      "Variance Explained by Model is 0.998294925172346\n"
     ]
    }
   ],
   "source": [
    "# PCA\n",
    "columns = X_train.columns[len(cols):]\n",
    "\n",
    "pca = PCA(n_components = pca_components)\n",
    "\n",
    "pca.fit(X_train[columns])\n",
    "\n",
    "X_train_pca = pd.DataFrame(pca.transform(X_train[columns]))\n",
    "X_test_pca = pd.DataFrame(pca.transform(X_test[columns]))\n",
    "\n",
    "X_train_pca.index = X_train.index\n",
    "X_test_pca.index = X_test.index\n",
    "\n",
    "print(f\"Variance Explained by Model is {pca.explained_variance_ratio_.cumsum()[-1]}\")\n",
    "\n",
    "# Remove Old Columns\n",
    "X_train.drop(columns, axis=1, inplace=True)\n",
    "X_test.drop(columns, axis=1, inplace=True)\n",
    "\n",
    "# Append PCA Columns\n",
    "X_train = pd.concat([X_train, X_train_pca], axis=1)\n",
    "X_test = pd.concat([X_test, X_test_pca], axis=1)"
   ]
  },
  {
   "cell_type": "code",
   "execution_count": 235,
   "metadata": {},
   "outputs": [
    {
     "name": "stdout",
     "output_type": "stream",
     "text": [
      "XGB :: -0.356439 ( +- 0.073929) \n",
      "\n",
      "GBC :: -0.369761 ( +- 0.067399) \n",
      "\n"
     ]
    },
    {
     "data": {
      "image/png": "[encoded data removed]",
      "text/plain": [
       "<Figure size 432x288 with 1 Axes>"
      ]
     },
     "metadata": {
      "needs_background": "light"
     },
     "output_type": "display_data"
    }
   ],
   "source": [
    "\"\"\"\n",
    "If we use sklearn.metrics.log_loss standalone, i.e. log_loss(y_true,y_pred), \n",
    "it generates a positive score -- the smaller the score, the better the performance.\n",
    "\n",
    "However, if we use 'neg_log_loss' as a scoring scheme as in 'cross_val_score\", \n",
    "the score is negative -- the bigger the score, the better the performance.\n",
    "\"\"\"\n",
    "\n",
    "from sklearn.tree import DecisionTreeClassifier\n",
    "from sklearn.naive_bayes import GaussianNB\n",
    "from xgboost.sklearn import XGBClassifier\n",
    "from sklearn import model_selection\n",
    "from sklearn.model_selection import cross_val_predict\n",
    "from sklearn.ensemble import RandomForestClassifier, GradientBoostingClassifier, ExtraTreesClassifier, BaggingClassifier, VotingClassifier, RandomTreesEmbedding\n",
    "from sklearn.linear_model import RidgeClassifier, SGDClassifier, LogisticRegression\n",
    "\n",
    "\n",
    "test_estimators = []\n",
    "\n",
    "test_estimators.append(('XGB', XGBClassifier()))\n",
    "test_estimators.append(('GBC', GradientBoostingClassifier(n_estimators=100)))\n",
    "\n",
    "\n",
    "# evaluate each model in turn\n",
    "results = []\n",
    "names = []\n",
    "for name, model in test_estimators:\n",
    "    kfold = model_selection.KFold(n_splits=10, random_state=7, shuffle=True)\n",
    "    cv_results = model_selection.cross_val_score(model, X_train, y_train, cv=kfold, scoring='neg_log_loss', n_jobs=6)\n",
    "    \n",
    "    results.append(cv_results)\n",
    "    names.append(name)\n",
    "    \n",
    "    msg = \"%s :: %f ( +- %f) \\n\" % (name, cv_results.mean(), cv_results.std())\n",
    "    print(msg)\n",
    "    \n",
    "# boxplot algorithm comparison\n",
    "fig = plt.figure()\n",
    "fig.suptitle('Algorithm Comparison')\n",
    "ax = fig.add_subplot(111)\n",
    "plt.boxplot(results)\n",
    "ax.set_xticklabels(names)\n",
    "plt.show()"
   ]
  },
  {
   "cell_type": "code",
   "execution_count": 237,
   "metadata": {},
   "outputs": [
    {
     "name": "stderr",
     "output_type": "stream",
     "text": [
      "[Parallel(n_jobs=-1)]: Using backend LokyBackend with 8 concurrent workers.\n",
      "[Parallel(n_jobs=-1)]: Done   7 out of  10 | elapsed:   12.6s remaining:    5.4s\n"
     ]
    },
    {
     "name": "stdout",
     "output_type": "stream",
     "text": [
      "Ensemble: -0.356462 (+/- 0.069047)\n"
     ]
    },
    {
     "name": "stderr",
     "output_type": "stream",
     "text": [
      "[Parallel(n_jobs=-1)]: Done  10 out of  10 | elapsed:   18.0s finished\n"
     ]
    }
   ],
   "source": [
    "# create the ensemble model\n",
    "ensemble = VotingClassifier(test_estimators, voting='soft')\n",
    "\n",
    "kfold = model_selection.KFold(n_splits=10, random_state=7, shuffle=True)\n",
    "cv_results = cross_val_score(ensemble, X_train.values, y_train, cv=kfold, scoring='neg_log_loss', verbose=2, n_jobs=-1) \n",
    "\n",
    "print(\"%s: %f (+/- %f)\" % (\"Ensemble\", cv_results.mean(), cv_results.std()))"
   ]
  },
  {
   "cell_type": "code",
   "execution_count": 239,
   "metadata": {},
   "outputs": [],
   "source": [
    "hist = ensemble.fit(X_train, y_train)"
   ]
  },
  {
   "cell_type": "code",
   "execution_count": 266,
   "metadata": {},
   "outputs": [],
   "source": [
    "df = pd.DataFrame(ensemble.predict_proba(X_test)).iloc[:, 1].apply(lambda val: 0.999 if val > 0.95 else val)\n",
    "\n",
    "#metrics.log_loss(y_test, df)\n",
    "#df.apply(lambda val: 0.01)\n",
    "#df = pd.DataFrame(estimators[0][1].predict_proba(X_test)).iloc[:, 1].apply(lambda val : 0.001 if val < 0.05 else val)\n",
    "#df = df.apply(lambda val : 0.001 if val < 0.05 else val)"
   ]
  },
  {
   "cell_type": "code",
   "execution_count": 269,
   "metadata": {},
   "outputs": [],
   "source": [
    "# Add prediction on Test DF\n",
    "test_df['pred_fitara'] = round(pd.DataFrame(ensemble.predict_proba(X_test)).iloc[:, 1],3)\n",
    "\n",
    "submission = test_df.loc[:, ['document_name', 'pred_fitara']]\n",
    "\"\"\"\n",
    "submission = pd.merge(\n",
    "    sub,\n",
    "    test_df,  \n",
    "    on='document_name', \n",
    "    how='inner'\n",
    ").loc[:, ['document_name', 'pred']]\n",
    "\n",
    "submission.columns = ['document_name', 'pred_fitara']\n",
    "\"\"\"\n",
    "\n",
    "submission.to_csv(os.path.join(ROOT_DIR, r'submission-6-ensemble.csv'), index=False)"
   ]
  },
  {
   "cell_type": "code",
   "execution_count": 273,
   "metadata": {},
   "outputs": [
    {
     "data": {
      "text/plain": [
       "0      0.085910\n",
       "1      0.276123\n",
       "2      0.019887\n",
       "3      0.849187\n",
       "4      0.052043\n",
       "         ...   \n",
       "234    0.061115\n",
       "235    0.558745\n",
       "236    0.157766\n",
       "237    0.047576\n",
       "238    0.183798\n",
       "Name: 1, Length: 239, dtype: float32"
      ]
     },
     "execution_count": 273,
     "metadata": {},
     "output_type": "execute_result"
    }
   ],
   "source": [
    "#test_estimators[0][1].fit(X_train, y_train)\n",
    "#pd.DataFrame(test_estimators[0][1].predict_proba(X_test)).iloc[:, 1]"
   ]
  }
 ],
 "metadata": {
  "kernelspec": {
   "display_name": "Python 3",
   "language": "python",
   "name": "python3"
  },
  "language_info": {
   "codemirror_mode": {
    "name": "ipython",
    "version": 3
   },
   "file_extension": ".py",
   "mimetype": "text/x-python",
   "name": "python",
   "nbconvert_exporter": "python",
   "pygments_lexer": "ipython3",
   "version": "3.7.3"
  },
  "pycharm": {
   "stem_cell": {
    "cell_type": "raw",
    "metadata": {
     "collapsed": false
    },
    "source": []
   }
  }
 },
 "nbformat": 4,
 "nbformat_minor": 1
}
