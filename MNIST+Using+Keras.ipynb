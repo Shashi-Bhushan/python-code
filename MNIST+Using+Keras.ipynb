{
 "cells": [
  {
   "cell_type": "code",
   "execution_count": 313,
   "metadata": {
    "pycharm": {
     "is_executing": false
    }
   },
   "outputs": [],
   "source": [
    "import numpy as np\n",
    "import pandas as pd\n",
    "import matplotlib.pyplot as plt\n",
    "\n",
    "# Keras\n",
    "import keras\n",
    "from keras.models import Sequential\n",
    "from keras.layers import Dense, Dropout, BatchNormalization, Activation\n",
    "\n",
    "from sklearn.model_selection import train_test_split\n",
    "\n",
    "import pickle\n",
    "import gzip"
   ]
  },
  {
   "cell_type": "code",
   "execution_count": 314,
   "metadata": {
    "pycharm": {
     "is_executing": false,
     "name": "#%%\n"
    }
   },
   "outputs": [],
   "source": [
    "np.random.seed(7)\n",
    "%matplotlib inline"
   ]
  },
  {
   "cell_type": "code",
   "execution_count": 315,
   "metadata": {
    "pycharm": {
     "is_executing": false,
     "name": "#%%\n"
    }
   },
   "outputs": [],
   "source": [
    "DIR_PATH = 'dataset/notracking/mnist/'\n",
    "\n",
    "train_df = pd.read_csv(DIR_PATH + 'train.csv')\n",
    "pred_df = pd.read_csv(DIR_PATH + 'test.csv')\n",
    "\n",
    "train_df, test_df = train_test_split(train_df, test_size=0.2)\n",
    "\n",
    "sub = pd.read_csv(DIR_PATH + 'sample_submission.csv')"
   ]
  },
  {
   "cell_type": "code",
   "execution_count": 316,
   "metadata": {},
   "outputs": [],
   "source": [
    "def load_data():\n",
    "    f = gzip.open('dataset/notracking/mnist.pkl.gz', 'rb')\n",
    "    f.seek(0)\n",
    "    training_data, validation_data, test_data = pickle.load(f, encoding='latin1')\n",
    "    f.close()\n",
    "    return (training_data, validation_data, test_data)\n",
    "\n",
    "df = load_data()\n",
    "\n",
    "X_train = np.concatenate((df[0][0], df[1][0], df[2][0]), axis=0)\n",
    "y_train = np.concatenate((df[0][1], df[1][1], df[2][1]), axis=0)\n",
    "\n",
    "temp = pd.DataFrame({'label' : y_train})\n",
    "\n",
    "train_df = pd.concat([temp, pd.DataFrame(X_train)], axis=1)\n",
    "train_df, test_df = train_test_split(train_df, test_size=0.2)\n",
    "\n",
    "pred_df = pd.read_csv(DIR_PATH + 'test.csv')\n",
    "sub = pd.read_csv(DIR_PATH + 'sample_submission.csv')"
   ]
  },
  {
   "cell_type": "code",
   "execution_count": 317,
   "metadata": {},
   "outputs": [],
   "source": [
    "def plot(dataset, index):\n",
    "    k = dataset[index]\n",
    "    k = k.reshape((28, 28))\n",
    "    #plt.title('Label is {}'.format(training_data[1][index]))\n",
    "    plt.imshow(k, cmap='gray')"
   ]
  },
  {
   "cell_type": "code",
   "execution_count": 318,
   "metadata": {},
   "outputs": [],
   "source": [
    "def one_hot(j):\n",
    "    # input is the target dataset of shape (1, m) where m is the number of data points\n",
    "    # returns a 2 dimensional array of shape (10, m) where each target value is converted to a one hot encoding\n",
    "    # Look at the next block of code for a better understanding of one hot encoding\n",
    "    n = j.shape[0]\n",
    "    new_array = np.zeros((10, n))\n",
    "    index = 0\n",
    "    for res in j:\n",
    "        new_array[res][index] = 1.0\n",
    "        index = index + 1\n",
    "    return new_array"
   ]
  },
  {
   "cell_type": "code",
   "execution_count": 319,
   "metadata": {},
   "outputs": [],
   "source": [
    "X_train = train_df.loc[:, train_df.columns != 'label'].values\n",
    "y_train = one_hot(train_df['label'].values).T\n",
    "\n",
    "X_test = test_df.loc[:, test_df.columns != 'label'].values\n",
    "y_test = one_hot(test_df['label'].values).T\n",
    "\n",
    "X_pred = pred_df.values"
   ]
  },
  {
   "cell_type": "code",
   "execution_count": 320,
   "metadata": {},
   "outputs": [],
   "source": [
    "# create model\n",
    "nn_model = Sequential()\n",
    "nn_model.add(Dense(50, input_dim=784, activation='relu'))\n",
    "nn_model.add(Dropout(0.25))\n",
    "nn_model.add(Dense(35, activation = 'relu'))\n",
    "nn_model.add(Dense(21, activation = 'relu'))\n",
    "nn_model.add(Dense(10, activation='softmax'))"
   ]
  },
  {
   "cell_type": "code",
   "execution_count": 321,
   "metadata": {},
   "outputs": [],
   "source": [
    "nn_model.compile(loss='categorical_crossentropy', optimizer='adam', metrics=['categorical_accuracy'])"
   ]
  },
  {
   "cell_type": "code",
   "execution_count": 322,
   "metadata": {},
   "outputs": [
    {
     "name": "stdout",
     "output_type": "stream",
     "text": [
      "Epoch 1/10\n",
      "56000/56000 [==============================] - 6s 99us/step - loss: 0.3955 - categorical_accuracy: 0.8794\n",
      "Epoch 2/10\n",
      "56000/56000 [==============================] - 5s 91us/step - loss: 0.2316 - categorical_accuracy: 0.9288\n",
      "Epoch 3/10\n",
      "56000/56000 [==============================] - 5s 91us/step - loss: 0.1987 - categorical_accuracy: 0.9391\n",
      "Epoch 4/10\n",
      "56000/56000 [==============================] - 5s 92us/step - loss: 0.1800 - categorical_accuracy: 0.9442\n",
      "Epoch 5/10\n",
      "56000/56000 [==============================] - 5s 93us/step - loss: 0.1620 - categorical_accuracy: 0.9498\n",
      "Epoch 6/10\n",
      "56000/56000 [==============================] - 5s 92us/step - loss: 0.1589 - categorical_accuracy: 0.9511\n",
      "Epoch 7/10\n",
      "56000/56000 [==============================] - 5s 94us/step - loss: 0.1481 - categorical_accuracy: 0.9540\n",
      "Epoch 8/10\n",
      "56000/56000 [==============================] - 5s 92us/step - loss: 0.1423 - categorical_accuracy: 0.9564\n",
      "Epoch 9/10\n",
      "56000/56000 [==============================] - 5s 93us/step - loss: 0.1343 - categorical_accuracy: 0.9569\n",
      "Epoch 10/10\n",
      "56000/56000 [==============================] - 5s 93us/step - loss: 0.1324 - categorical_accuracy: 0.9592\n"
     ]
    },
    {
     "data": {
      "text/plain": [
       "<keras.callbacks.History at 0x7fc4fdf44860>"
      ]
     },
     "execution_count": 322,
     "metadata": {},
     "output_type": "execute_result"
    }
   ],
   "source": [
    "nn_model.fit(X_train, y_train, epochs=10, batch_size=10)"
   ]
  },
  {
   "cell_type": "markdown",
   "metadata": {},
   "source": [
    "Accuracy on Training Data"
   ]
  },
  {
   "cell_type": "code",
   "execution_count": 323,
   "metadata": {},
   "outputs": [
    {
     "name": "stdout",
     "output_type": "stream",
     "text": [
      "56000/56000 [==============================] - 1s 13us/step\n",
      "\n",
      "categorical_accuracy: 98.09%\n"
     ]
    }
   ],
   "source": [
    "scores_train = nn_model.evaluate(X_train, y_train)\n",
    "print(\"\\n%s: %.2f%%\" % (nn_model.metrics_names[1], scores_train[1]*100))"
   ]
  },
  {
   "cell_type": "markdown",
   "metadata": {},
   "source": [
    "Accuracy on Test Data"
   ]
  },
  {
   "cell_type": "code",
   "execution_count": 324,
   "metadata": {},
   "outputs": [
    {
     "name": "stdout",
     "output_type": "stream",
     "text": [
      "14000/14000 [==============================] - 0s 11us/step\n",
      "\n",
      "categorical_accuracy: 96.72%\n"
     ]
    }
   ],
   "source": [
    "scores_test = nn_model.evaluate(X_test, y_test)\n",
    "print(\"\\n%s: %.2f%%\" % (nn_model.metrics_names[1], scores_test[1]*100))"
   ]
  },
  {
   "cell_type": "code",
   "execution_count": 325,
   "metadata": {},
   "outputs": [
    {
     "data": {
      "text/plain": [
       "(28000,)"
      ]
     },
     "execution_count": 325,
     "metadata": {},
     "output_type": "execute_result"
    }
   ],
   "source": [
    "predictions = nn_model.predict(X_pred)\n",
    "predictions = np.argmax(predictions, axis = 1)\n",
    "predictions.shape"
   ]
  },
  {
   "cell_type": "code",
   "execution_count": 326,
   "metadata": {},
   "outputs": [
    {
     "data": {
      "image/png": "[encoded data removed]",
      "text/plain": [
       "<Figure size 432x288 with 1 Axes>"
      ]
     },
     "metadata": {
      "needs_background": "light"
     },
     "output_type": "display_data"
    }
   ],
   "source": [
    "plot(X_test, 2)"
   ]
  },
  {
   "cell_type": "code",
   "execution_count": 327,
   "metadata": {},
   "outputs": [],
   "source": [
    "sub['Label'] = predictions\n",
    "sub.to_csv(DIR_PATH + \"submission_1.csv\", index = False)"
   ]
  }
 ],
 "metadata": {
  "kernelspec": {
   "display_name": "Python 3",
   "language": "python",
   "name": "python3"
  },
  "language_info": {
   "codemirror_mode": {
    "name": "ipython",
    "version": 3
   },
   "file_extension": ".py",
   "mimetype": "text/x-python",
   "name": "python",
   "nbconvert_exporter": "python",
   "pygments_lexer": "ipython3",
   "version": "3.7.3"
  },
  "pycharm": {
   "stem_cell": {
    "cell_type": "raw",
    "metadata": {
     "collapsed": false
    },
    "source": []
   }
  }
 },
 "nbformat": 4,
 "nbformat_minor": 1
}
