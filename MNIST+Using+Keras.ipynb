{
 "cells": [
  {
   "cell_type": "code",
   "execution_count": 1,
   "metadata": {
    "pycharm": {
     "is_executing": false
    }
   },
   "outputs": [
    {
     "name": "stderr",
     "text": [
      "Using TensorFlow backend.\n/home/shashi/.local/share/virtualenvs/python-code-gqSjhHCu/lib/python3.7/site-packages/tensorflow/python/framework/dtypes.py:516: FutureWarning: Passing (type, 1) or '1type' as a synonym of type is deprecated; in a future version of numpy, it will be understood as (type, (1,)) / '(1,)type'.\n  _np_qint8 = np.dtype([(\"qint8\", np.int8, 1)])\n/home/shashi/.local/share/virtualenvs/python-code-gqSjhHCu/lib/python3.7/site-packages/tensorflow/python/framework/dtypes.py:517: FutureWarning: Passing (type, 1) or '1type' as a synonym of type is deprecated; in a future version of numpy, it will be understood as (type, (1,)) / '(1,)type'.\n  _np_quint8 = np.dtype([(\"quint8\", np.uint8, 1)])\n/home/shashi/.local/share/virtualenvs/python-code-gqSjhHCu/lib/python3.7/site-packages/tensorflow/python/framework/dtypes.py:518: FutureWarning: Passing (type, 1) or '1type' as a synonym of type is deprecated; in a future version of numpy, it will be understood as (type, (1,)) / '(1,)type'.\n  _np_qint16 = np.dtype([(\"qint16\", np.int16, 1)])\n/home/shashi/.local/share/virtualenvs/python-code-gqSjhHCu/lib/python3.7/site-packages/tensorflow/python/framework/dtypes.py:519: FutureWarning: Passing (type, 1) or '1type' as a synonym of type is deprecated; in a future version of numpy, it will be understood as (type, (1,)) / '(1,)type'.\n  _np_quint16 = np.dtype([(\"quint16\", np.uint16, 1)])\n/home/shashi/.local/share/virtualenvs/python-code-gqSjhHCu/lib/python3.7/site-packages/tensorflow/python/framework/dtypes.py:520: FutureWarning: Passing (type, 1) or '1type' as a synonym of type is deprecated; in a future version of numpy, it will be understood as (type, (1,)) / '(1,)type'.\n  _np_qint32 = np.dtype([(\"qint32\", np.int32, 1)])\n/home/shashi/.local/share/virtualenvs/python-code-gqSjhHCu/lib/python3.7/site-packages/tensorflow/python/framework/dtypes.py:525: FutureWarning: Passing (type, 1) or '1type' as a synonym of type is deprecated; in a future version of numpy, it will be understood as (type, (1,)) / '(1,)type'.\n  np_resource = np.dtype([(\"resource\", np.ubyte, 1)])\n",
      "/home/shashi/.local/share/virtualenvs/python-code-gqSjhHCu/lib/python3.7/site-packages/tensorboard/compat/tensorflow_stub/dtypes.py:541: FutureWarning: Passing (type, 1) or '1type' as a synonym of type is deprecated; in a future version of numpy, it will be understood as (type, (1,)) / '(1,)type'.\n  _np_qint8 = np.dtype([(\"qint8\", np.int8, 1)])\n/home/shashi/.local/share/virtualenvs/python-code-gqSjhHCu/lib/python3.7/site-packages/tensorboard/compat/tensorflow_stub/dtypes.py:542: FutureWarning: Passing (type, 1) or '1type' as a synonym of type is deprecated; in a future version of numpy, it will be understood as (type, (1,)) / '(1,)type'.\n  _np_quint8 = np.dtype([(\"quint8\", np.uint8, 1)])\n/home/shashi/.local/share/virtualenvs/python-code-gqSjhHCu/lib/python3.7/site-packages/tensorboard/compat/tensorflow_stub/dtypes.py:543: FutureWarning: Passing (type, 1) or '1type' as a synonym of type is deprecated; in a future version of numpy, it will be understood as (type, (1,)) / '(1,)type'.\n  _np_qint16 = np.dtype([(\"qint16\", np.int16, 1)])\n/home/shashi/.local/share/virtualenvs/python-code-gqSjhHCu/lib/python3.7/site-packages/tensorboard/compat/tensorflow_stub/dtypes.py:544: FutureWarning: Passing (type, 1) or '1type' as a synonym of type is deprecated; in a future version of numpy, it will be understood as (type, (1,)) / '(1,)type'.\n  _np_quint16 = np.dtype([(\"quint16\", np.uint16, 1)])\n/home/shashi/.local/share/virtualenvs/python-code-gqSjhHCu/lib/python3.7/site-packages/tensorboard/compat/tensorflow_stub/dtypes.py:545: FutureWarning: Passing (type, 1) or '1type' as a synonym of type is deprecated; in a future version of numpy, it will be understood as (type, (1,)) / '(1,)type'.\n  _np_qint32 = np.dtype([(\"qint32\", np.int32, 1)])\n/home/shashi/.local/share/virtualenvs/python-code-gqSjhHCu/lib/python3.7/site-packages/tensorboard/compat/tensorflow_stub/dtypes.py:550: FutureWarning: Passing (type, 1) or '1type' as a synonym of type is deprecated; in a future version of numpy, it will be understood as (type, (1,)) / '(1,)type'.\n  np_resource = np.dtype([(\"resource\", np.ubyte, 1)])\n"
     ],
     "output_type": "stream"
    }
   ],
   "source": [
    "import numpy as np\n",
    "import pandas as pd\n",
    "import matplotlib.pyplot as plt\n",
    "\n",
    "# Keras\n",
    "import keras\n",
    "from keras.models import Sequential\n",
    "from keras.layers import Dense, Dropout, BatchNormalization, Activation\n",
    "\n",
    "from sklearn.model_selection import train_test_split\n",
    "\n",
    "import pickle\n",
    "import gzip\n",
    "import time"
   ]
  },
  {
   "cell_type": "code",
   "execution_count": 4,
   "metadata": {
    "pycharm": {
     "is_executing": false
    }
   },
   "outputs": [
    {
     "data": {
      "text/plain": [
       "[name: \"/device:CPU:0\"\n",
       " device_type: \"CPU\"\n",
       " memory_limit: 268435456\n",
       " locality {\n",
       " }\n",
       " incarnation: 3263223534740639722, name: \"/device:XLA_CPU:0\"\n",
       " device_type: \"XLA_CPU\"\n",
       " memory_limit: 17179869184\n",
       " locality {\n",
       " }\n",
       " incarnation: 3482191812518279862\n",
       " physical_device_desc: \"device: XLA_CPU device\", name: \"/device:XLA_GPU:0\"\n",
       " device_type: \"XLA_GPU\"\n",
       " memory_limit: 17179869184\n",
       " locality {\n",
       " }\n",
       " incarnation: 17576692117659392542\n",
       " physical_device_desc: \"device: XLA_GPU device\"]"
      ]
     },
     "execution_count": 4,
     "metadata": {},
     "output_type": "execute_result"
    }
   ],
   "source": [
    "from tensorflow.python.client import device_lib\n",
    "device_lib.list_local_devices()"
   ]
  },
  {
   "cell_type": "code",
   "execution_count": 5,
   "metadata": {
    "pycharm": {
     "is_executing": false,
     "name": "#%%\n"
    }
   },
   "outputs": [],
   "source": [
    "np.random.seed(7)\n",
    "%matplotlib inline"
   ]
  },
  {
   "cell_type": "code",
   "execution_count": 6,
   "metadata": {
    "pycharm": {
     "is_executing": false,
     "name": "#%%\n"
    }
   },
   "outputs": [],
   "source": [
    "DIR_PATH = 'dataset/notracking/mnist/'\n",
    "\n",
    "train_df = pd.read_csv(DIR_PATH + 'train.csv')\n",
    "pred_df = pd.read_csv(DIR_PATH + 'test.csv')\n",
    "\n",
    "train_df, test_df = train_test_split(train_df, test_size=0.2)\n",
    "\n",
    "sub = pd.read_csv(DIR_PATH + 'sample_submission.csv')"
   ]
  },
  {
   "cell_type": "code",
   "execution_count": 7,
   "metadata": {},
   "outputs": [],
   "source": [
    "def load_data():\n",
    "    f = gzip.open('dataset/notracking/mnist.pkl.gz', 'rb')\n",
    "    f.seek(0)\n",
    "    training_data, validation_data, test_data = pickle.load(f, encoding='latin1')\n",
    "    f.close()\n",
    "    return (training_data, validation_data, test_data)\n",
    "\n",
    "df = load_data()\n",
    "\n",
    "X_train = np.concatenate((df[0][0], df[1][0], df[2][0]), axis=0)\n",
    "y_train = np.concatenate((df[0][1], df[1][1], df[2][1]), axis=0)\n",
    "\n",
    "temp = pd.DataFrame({'label' : y_train})\n",
    "\n",
    "train_df = pd.concat([temp, pd.DataFrame(X_train)], axis=1)\n",
    "train_df, test_df = train_test_split(train_df, test_size=0.15)\n",
    "\n",
    "pred_df = pd.read_csv(DIR_PATH + 'test.csv')\n",
    "sub = pd.read_csv(DIR_PATH + 'sample_submission.csv')"
   ]
  },
  {
   "cell_type": "code",
   "execution_count": 8,
   "metadata": {},
   "outputs": [],
   "source": [
    "def plot(dataset, index):\n",
    "    k = dataset[index]\n",
    "    k = k.reshape((28, 28))\n",
    "    #plt.title('Label is {}'.format(training_data[1][index]))\n",
    "    plt.imshow(k, cmap='gray')"
   ]
  },
  {
   "cell_type": "code",
   "execution_count": 9,
   "metadata": {},
   "outputs": [],
   "source": [
    "def one_hot(j):\n",
    "    # input is the target dataset of shape (1, m) where m is the number of data points\n",
    "    # returns a 2 dimensional array of shape (10, m) where each target value is converted to a one hot encoding\n",
    "    # Look at the next block of code for a better understanding of one hot encoding\n",
    "    n = j.shape[0]\n",
    "    new_array = np.zeros((10, n))\n",
    "    index = 0\n",
    "    for res in j:\n",
    "        new_array[res][index] = 1.0\n",
    "        index = index + 1\n",
    "    return new_array"
   ]
  },
  {
   "cell_type": "code",
   "execution_count": 10,
   "metadata": {},
   "outputs": [],
   "source": [
    "X_train = train_df.loc[:, train_df.columns != 'label'].values\n",
    "y_train = one_hot(train_df['label'].values).T\n",
    "\n",
    "X_test = test_df.loc[:, test_df.columns != 'label'].values\n",
    "y_test = one_hot(test_df['label'].values).T\n",
    "\n",
    "X_pred = pred_df.values"
   ]
  },
  {
   "cell_type": "code",
   "execution_count": 11,
   "metadata": {},
   "outputs": [
    {
     "name": "stderr",
     "output_type": "stream",
     "text": [
      "WARNING: Logging before flag parsing goes to stderr.\n",
      "W0823 21:10:52.588860 139864239109952 deprecation_wrapper.py:119] From /home/shashi/.local/share/virtualenvs/python-code-gqSjhHCu/lib/python3.7/site-packages/keras/backend/tensorflow_backend.py:66: The name tf.get_default_graph is deprecated. Please use tf.compat.v1.get_default_graph instead.\n",
      "\n",
      "W0823 21:10:52.590542 139864239109952 deprecation_wrapper.py:119] From /home/shashi/.local/share/virtualenvs/python-code-gqSjhHCu/lib/python3.7/site-packages/keras/backend/tensorflow_backend.py:541: The name tf.placeholder is deprecated. Please use tf.compat.v1.placeholder instead.\n",
      "\n",
      "W0823 21:10:52.592758 139864239109952 deprecation_wrapper.py:119] From /home/shashi/.local/share/virtualenvs/python-code-gqSjhHCu/lib/python3.7/site-packages/keras/backend/tensorflow_backend.py:4432: The name tf.random_uniform is deprecated. Please use tf.random.uniform instead.\n",
      "\n",
      "W0823 21:10:52.604381 139864239109952 deprecation_wrapper.py:119] From /home/shashi/.local/share/virtualenvs/python-code-gqSjhHCu/lib/python3.7/site-packages/keras/backend/tensorflow_backend.py:148: The name tf.placeholder_with_default is deprecated. Please use tf.compat.v1.placeholder_with_default instead.\n",
      "\n",
      "W0823 21:10:52.609398 139864239109952 deprecation.py:506] From /home/shashi/.local/share/virtualenvs/python-code-gqSjhHCu/lib/python3.7/site-packages/keras/backend/tensorflow_backend.py:3733: calling dropout (from tensorflow.python.ops.nn_ops) with keep_prob is deprecated and will be removed in a future version.\n",
      "Instructions for updating:\n",
      "Please use `rate` instead of `keep_prob`. Rate should be set to `rate = 1 - keep_prob`.\n"
     ]
    }
   ],
   "source": [
    "# create model\n",
    "nn_model = Sequential()\n",
    "nn_model.add(Dense(50, input_dim=784, activation='relu'))\n",
    "nn_model.add(Dropout(0.25))\n",
    "nn_model.add(Dense(35, activation = 'relu'))\n",
    "nn_model.add(Dense(21, activation = 'relu'))\n",
    "nn_model.add(Dense(10, activation='softmax'))"
   ]
  },
  {
   "cell_type": "code",
   "execution_count": 12,
   "metadata": {},
   "outputs": [
    {
     "name": "stderr",
     "output_type": "stream",
     "text": [
      "W0823 21:10:52.643806 139864239109952 deprecation_wrapper.py:119] From /home/shashi/.local/share/virtualenvs/python-code-gqSjhHCu/lib/python3.7/site-packages/keras/optimizers.py:793: The name tf.train.Optimizer is deprecated. Please use tf.compat.v1.train.Optimizer instead.\n",
      "\n",
      "W0823 21:10:52.659448 139864239109952 deprecation_wrapper.py:119] From /home/shashi/.local/share/virtualenvs/python-code-gqSjhHCu/lib/python3.7/site-packages/keras/backend/tensorflow_backend.py:3576: The name tf.log is deprecated. Please use tf.math.log instead.\n",
      "\n"
     ]
    }
   ],
   "source": [
    "nn_model.compile(loss='categorical_crossentropy', optimizer='adam', metrics=['categorical_accuracy'])"
   ]
  },
  {
   "cell_type": "code",
   "execution_count": 13,
   "metadata": {},
   "outputs": [
    {
     "name": "stderr",
     "output_type": "stream",
     "text": [
      "W0823 21:10:52.729249 139864239109952 deprecation.py:323] From /home/shashi/.local/share/virtualenvs/python-code-gqSjhHCu/lib/python3.7/site-packages/tensorflow/python/ops/math_grad.py:1250: add_dispatch_support.<locals>.wrapper (from tensorflow.python.ops.array_ops) is deprecated and will be removed in a future version.\n",
      "Instructions for updating:\n",
      "Use tf.where in 2.0, which has the same broadcast rule as np.where\n"
     ]
    },
    {
     "name": "stdout",
     "output_type": "stream",
     "text": [
      "Epoch 1/150\n",
      "59500/59500 [==============================] - 5s 91us/step - loss: 0.3844 - categorical_accuracy: 0.8813\n",
      "Epoch 2/150\n",
      "59500/59500 [==============================] - 5s 86us/step - loss: 0.2260 - categorical_accuracy: 0.9308\n",
      "Epoch 3/150\n",
      "59500/59500 [==============================] - 5s 87us/step - loss: 0.1933 - categorical_accuracy: 0.9409\n",
      "Epoch 4/150\n",
      "59500/59500 [==============================] - 5s 86us/step - loss: 0.1777 - categorical_accuracy: 0.9450\n",
      "Epoch 5/150\n",
      "59500/59500 [==============================] - 5s 86us/step - loss: 0.1634 - categorical_accuracy: 0.9501\n",
      "Epoch 6/150\n",
      "59500/59500 [==============================] - 5s 86us/step - loss: 0.1541 - categorical_accuracy: 0.9521\n",
      "Epoch 7/150\n",
      "59500/59500 [==============================] - 5s 87us/step - loss: 0.1478 - categorical_accuracy: 0.9533\n",
      "Epoch 8/150\n",
      "59500/59500 [==============================] - 5s 92us/step - loss: 0.1414 - categorical_accuracy: 0.9561\n",
      "Epoch 9/150\n",
      "59500/59500 [==============================] - 5s 87us/step - loss: 0.1331 - categorical_accuracy: 0.9583\n",
      "Epoch 10/150\n",
      "59500/59500 [==============================] - 5s 89us/step - loss: 0.1292 - categorical_accuracy: 0.9594\n",
      "Epoch 11/150\n",
      "59500/59500 [==============================] - 5s 87us/step - loss: 0.1294 - categorical_accuracy: 0.9601\n",
      "Epoch 12/150\n",
      "59500/59500 [==============================] - 6s 93us/step - loss: 0.1258 - categorical_accuracy: 0.9611\n",
      "Epoch 13/150\n",
      "59500/59500 [==============================] - 5s 89us/step - loss: 0.1199 - categorical_accuracy: 0.9630\n",
      "Epoch 14/150\n",
      "59500/59500 [==============================] - 5s 88us/step - loss: 0.1178 - categorical_accuracy: 0.9631\n",
      "Epoch 15/150\n",
      "59500/59500 [==============================] - 5s 88us/step - loss: 0.1158 - categorical_accuracy: 0.9637\n",
      "Epoch 16/150\n",
      "59500/59500 [==============================] - 5s 88us/step - loss: 0.1171 - categorical_accuracy: 0.9635\n",
      "Epoch 17/150\n",
      "59500/59500 [==============================] - 5s 87us/step - loss: 0.1139 - categorical_accuracy: 0.9641\n",
      "Epoch 18/150\n",
      "59500/59500 [==============================] - 5s 88us/step - loss: 0.1113 - categorical_accuracy: 0.9661\n",
      "Epoch 19/150\n",
      "59500/59500 [==============================] - 5s 92us/step - loss: 0.1084 - categorical_accuracy: 0.9667\n",
      "Epoch 20/150\n",
      "59500/59500 [==============================] - 6s 95us/step - loss: 0.1064 - categorical_accuracy: 0.9657\n",
      "Epoch 21/150\n",
      "59500/59500 [==============================] - 5s 89us/step - loss: 0.1042 - categorical_accuracy: 0.9673\n",
      "Epoch 22/150\n",
      "59500/59500 [==============================] - 5s 89us/step - loss: 0.1042 - categorical_accuracy: 0.9663\n",
      "Epoch 23/150\n",
      "59500/59500 [==============================] - 5s 89us/step - loss: 0.1005 - categorical_accuracy: 0.9685\n",
      "Epoch 24/150\n",
      "59500/59500 [==============================] - 5s 89us/step - loss: 0.1007 - categorical_accuracy: 0.9683\n",
      "Epoch 25/150\n",
      "59500/59500 [==============================] - 5s 89us/step - loss: 0.0986 - categorical_accuracy: 0.9690\n",
      "Epoch 26/150\n",
      "59500/59500 [==============================] - 5s 89us/step - loss: 0.0993 - categorical_accuracy: 0.9696\n",
      "Epoch 27/150\n",
      "59500/59500 [==============================] - 5s 89us/step - loss: 0.0993 - categorical_accuracy: 0.9689\n",
      "Epoch 28/150\n",
      "59500/59500 [==============================] - 5s 89us/step - loss: 0.0942 - categorical_accuracy: 0.9705\n",
      "Epoch 29/150\n",
      "59500/59500 [==============================] - 5s 89us/step - loss: 0.0942 - categorical_accuracy: 0.9706\n",
      "Epoch 30/150\n",
      "59500/59500 [==============================] - 5s 89us/step - loss: 0.0969 - categorical_accuracy: 0.9694\n",
      "Epoch 31/150\n",
      "59500/59500 [==============================] - 5s 89us/step - loss: 0.0948 - categorical_accuracy: 0.9704\n",
      "Epoch 32/150\n",
      "59500/59500 [==============================] - 5s 90us/step - loss: 0.0949 - categorical_accuracy: 0.9694\n",
      "Epoch 33/150\n",
      "59500/59500 [==============================] - 5s 89us/step - loss: 0.0967 - categorical_accuracy: 0.9693\n",
      "Epoch 34/150\n",
      "59500/59500 [==============================] - 5s 89us/step - loss: 0.0916 - categorical_accuracy: 0.9713\n",
      "Epoch 35/150\n",
      "59500/59500 [==============================] - 5s 89us/step - loss: 0.0932 - categorical_accuracy: 0.9710\n",
      "Epoch 36/150\n",
      "59500/59500 [==============================] - 5s 89us/step - loss: 0.0894 - categorical_accuracy: 0.9719\n",
      "Epoch 37/150\n",
      "59500/59500 [==============================] - 5s 89us/step - loss: 0.0916 - categorical_accuracy: 0.9711\n",
      "Epoch 38/150\n",
      "59500/59500 [==============================] - 5s 89us/step - loss: 0.0907 - categorical_accuracy: 0.9713\n",
      "Epoch 39/150\n",
      "59500/59500 [==============================] - 5s 89us/step - loss: 0.0917 - categorical_accuracy: 0.9711\n",
      "Epoch 40/150\n",
      "59500/59500 [==============================] - 5s 89us/step - loss: 0.0901 - categorical_accuracy: 0.9714\n",
      "Epoch 41/150\n",
      "59500/59500 [==============================] - 5s 89us/step - loss: 0.0882 - categorical_accuracy: 0.9723\n",
      "Epoch 42/150\n",
      "59500/59500 [==============================] - 5s 89us/step - loss: 0.0894 - categorical_accuracy: 0.9721\n",
      "Epoch 43/150\n",
      "59500/59500 [==============================] - 5s 90us/step - loss: 0.0888 - categorical_accuracy: 0.9722\n",
      "Epoch 44/150\n",
      "59500/59500 [==============================] - 5s 89us/step - loss: 0.0862 - categorical_accuracy: 0.9727\n",
      "Epoch 45/150\n",
      "59500/59500 [==============================] - 5s 89us/step - loss: 0.0842 - categorical_accuracy: 0.9740\n",
      "Epoch 46/150\n",
      "59500/59500 [==============================] - 5s 89us/step - loss: 0.0829 - categorical_accuracy: 0.9738\n",
      "Epoch 47/150\n",
      "59500/59500 [==============================] - 5s 89us/step - loss: 0.0852 - categorical_accuracy: 0.9725\n",
      "Epoch 48/150\n",
      "59500/59500 [==============================] - 5s 90us/step - loss: 0.0843 - categorical_accuracy: 0.9733\n",
      "Epoch 49/150\n",
      "59500/59500 [==============================] - 5s 90us/step - loss: 0.0865 - categorical_accuracy: 0.9733\n",
      "Epoch 50/150\n",
      "59500/59500 [==============================] - 5s 90us/step - loss: 0.0841 - categorical_accuracy: 0.9726 0s - loss: 0.0831 - catego\n",
      "Epoch 51/150\n",
      "59500/59500 [==============================] - 6s 94us/step - loss: 0.0833 - categorical_accuracy: 0.9738\n",
      "Epoch 52/150\n",
      "59500/59500 [==============================] - 5s 90us/step - loss: 0.0865 - categorical_accuracy: 0.9726\n",
      "Epoch 53/150\n",
      "59500/59500 [==============================] - 5s 90us/step - loss: 0.0833 - categorical_accuracy: 0.9739\n",
      "Epoch 54/150\n",
      "59500/59500 [==============================] - 5s 90us/step - loss: 0.0846 - categorical_accuracy: 0.9730\n",
      "Epoch 55/150\n",
      "59500/59500 [==============================] - 5s 90us/step - loss: 0.0821 - categorical_accuracy: 0.9740\n",
      "Epoch 56/150\n",
      "59500/59500 [==============================] - 5s 90us/step - loss: 0.0838 - categorical_accuracy: 0.9742\n",
      "Epoch 57/150\n",
      "59500/59500 [==============================] - 5s 90us/step - loss: 0.0811 - categorical_accuracy: 0.9754\n",
      "Epoch 58/150\n",
      "59500/59500 [==============================] - 5s 90us/step - loss: 0.0826 - categorical_accuracy: 0.9739\n",
      "Epoch 59/150\n",
      "59500/59500 [==============================] - 5s 90us/step - loss: 0.0807 - categorical_accuracy: 0.9747\n",
      "Epoch 60/150\n",
      "59500/59500 [==============================] - 5s 90us/step - loss: 0.0843 - categorical_accuracy: 0.9734\n",
      "Epoch 61/150\n",
      "59500/59500 [==============================] - 5s 90us/step - loss: 0.0814 - categorical_accuracy: 0.9741\n",
      "Epoch 62/150\n",
      "59500/59500 [==============================] - 5s 90us/step - loss: 0.0793 - categorical_accuracy: 0.9748\n",
      "Epoch 63/150\n",
      "59500/59500 [==============================] - 5s 90us/step - loss: 0.0787 - categorical_accuracy: 0.9750\n",
      "Epoch 64/150\n",
      "59500/59500 [==============================] - 5s 90us/step - loss: 0.0787 - categorical_accuracy: 0.9745\n",
      "Epoch 65/150\n",
      "59500/59500 [==============================] - 5s 90us/step - loss: 0.0836 - categorical_accuracy: 0.9748\n",
      "Epoch 66/150\n",
      "59500/59500 [==============================] - 5s 90us/step - loss: 0.0768 - categorical_accuracy: 0.9760\n",
      "Epoch 67/150\n",
      "59500/59500 [==============================] - 5s 90us/step - loss: 0.0808 - categorical_accuracy: 0.9748\n",
      "Epoch 68/150\n",
      "59500/59500 [==============================] - 5s 90us/step - loss: 0.0764 - categorical_accuracy: 0.9759\n",
      "Epoch 69/150\n"
     ]
    },
    {
     "name": "stdout",
     "output_type": "stream",
     "text": [
      "59500/59500 [==============================] - 5s 89us/step - loss: 0.0800 - categorical_accuracy: 0.9747\n",
      "Epoch 70/150\n",
      "59500/59500 [==============================] - 5s 89us/step - loss: 0.0784 - categorical_accuracy: 0.9758\n",
      "Epoch 71/150\n",
      "59500/59500 [==============================] - 5s 91us/step - loss: 0.0775 - categorical_accuracy: 0.9756\n",
      "Epoch 72/150\n",
      "59500/59500 [==============================] - 5s 88us/step - loss: 0.0755 - categorical_accuracy: 0.9764\n",
      "Epoch 73/150\n",
      "59500/59500 [==============================] - 5s 89us/step - loss: 0.0779 - categorical_accuracy: 0.9763\n",
      "Epoch 74/150\n",
      "59500/59500 [==============================] - 5s 88us/step - loss: 0.0776 - categorical_accuracy: 0.9751\n",
      "Epoch 75/150\n",
      "59500/59500 [==============================] - 5s 89us/step - loss: 0.0782 - categorical_accuracy: 0.9750\n",
      "Epoch 76/150\n",
      "59500/59500 [==============================] - 5s 88us/step - loss: 0.0750 - categorical_accuracy: 0.9764\n",
      "Epoch 77/150\n",
      "59500/59500 [==============================] - 5s 88us/step - loss: 0.0765 - categorical_accuracy: 0.9756\n",
      "Epoch 78/150\n",
      "59500/59500 [==============================] - 5s 89us/step - loss: 0.0740 - categorical_accuracy: 0.9765\n",
      "Epoch 79/150\n",
      "59500/59500 [==============================] - 5s 89us/step - loss: 0.0793 - categorical_accuracy: 0.9754\n",
      "Epoch 80/150\n",
      "59500/59500 [==============================] - 5s 88us/step - loss: 0.0743 - categorical_accuracy: 0.9771\n",
      "Epoch 81/150\n",
      "59500/59500 [==============================] - 5s 88us/step - loss: 0.0777 - categorical_accuracy: 0.9761\n",
      "Epoch 82/150\n",
      "59500/59500 [==============================] - 5s 89us/step - loss: 0.0734 - categorical_accuracy: 0.9773\n",
      "Epoch 83/150\n",
      "59500/59500 [==============================] - 5s 89us/step - loss: 0.0729 - categorical_accuracy: 0.9768\n",
      "Epoch 84/150\n",
      "59500/59500 [==============================] - 5s 89us/step - loss: 0.0761 - categorical_accuracy: 0.9764\n",
      "Epoch 85/150\n",
      "59500/59500 [==============================] - 5s 89us/step - loss: 0.0738 - categorical_accuracy: 0.9765\n",
      "Epoch 86/150\n",
      "59500/59500 [==============================] - 5s 89us/step - loss: 0.0762 - categorical_accuracy: 0.9760\n",
      "Epoch 87/150\n",
      "59500/59500 [==============================] - 5s 89us/step - loss: 0.0735 - categorical_accuracy: 0.9767\n",
      "Epoch 88/150\n",
      "59500/59500 [==============================] - 5s 89us/step - loss: 0.0738 - categorical_accuracy: 0.9770\n",
      "Epoch 89/150\n",
      "59500/59500 [==============================] - 5s 89us/step - loss: 0.0743 - categorical_accuracy: 0.9772\n",
      "Epoch 90/150\n",
      "59500/59500 [==============================] - 5s 89us/step - loss: 0.0736 - categorical_accuracy: 0.9779\n",
      "Epoch 91/150\n",
      "59500/59500 [==============================] - 5s 89us/step - loss: 0.0742 - categorical_accuracy: 0.9770\n",
      "Epoch 92/150\n",
      "59500/59500 [==============================] - 5s 89us/step - loss: 0.0729 - categorical_accuracy: 0.9770\n",
      "Epoch 93/150\n",
      "59500/59500 [==============================] - 5s 89us/step - loss: 0.0729 - categorical_accuracy: 0.9772\n",
      "Epoch 94/150\n",
      "59500/59500 [==============================] - 5s 89us/step - loss: 0.0751 - categorical_accuracy: 0.9766\n",
      "Epoch 95/150\n",
      "59500/59500 [==============================] - 5s 89us/step - loss: 0.0729 - categorical_accuracy: 0.9776\n",
      "Epoch 96/150\n",
      "59500/59500 [==============================] - 5s 89us/step - loss: 0.0694 - categorical_accuracy: 0.9777\n",
      "Epoch 97/150\n",
      "59500/59500 [==============================] - 5s 89us/step - loss: 0.0722 - categorical_accuracy: 0.9777\n",
      "Epoch 98/150\n",
      "59500/59500 [==============================] - 5s 89us/step - loss: 0.0729 - categorical_accuracy: 0.9774\n",
      "Epoch 99/150\n",
      "59500/59500 [==============================] - 5s 89us/step - loss: 0.0738 - categorical_accuracy: 0.9767\n",
      "Epoch 100/150\n",
      "59500/59500 [==============================] - 5s 89us/step - loss: 0.0706 - categorical_accuracy: 0.9780\n",
      "Epoch 101/150\n",
      "59500/59500 [==============================] - 5s 89us/step - loss: 0.0706 - categorical_accuracy: 0.9771\n",
      "Epoch 102/150\n",
      "59500/59500 [==============================] - 5s 89us/step - loss: 0.0719 - categorical_accuracy: 0.9764\n",
      "Epoch 103/150\n",
      "59500/59500 [==============================] - 5s 89us/step - loss: 0.0703 - categorical_accuracy: 0.9787\n",
      "Epoch 104/150\n",
      "59500/59500 [==============================] - 5s 89us/step - loss: 0.0690 - categorical_accuracy: 0.9787\n",
      "Epoch 105/150\n",
      "59500/59500 [==============================] - 5s 89us/step - loss: 0.0701 - categorical_accuracy: 0.9774\n",
      "Epoch 106/150\n",
      "59500/59500 [==============================] - 5s 89us/step - loss: 0.0747 - categorical_accuracy: 0.9773\n",
      "Epoch 107/150\n",
      "59500/59500 [==============================] - 5s 89us/step - loss: 0.0720 - categorical_accuracy: 0.9775\n",
      "Epoch 108/150\n",
      "59500/59500 [==============================] - 5s 89us/step - loss: 0.0691 - categorical_accuracy: 0.9783\n",
      "Epoch 109/150\n",
      "59500/59500 [==============================] - 5s 89us/step - loss: 0.0695 - categorical_accuracy: 0.9779\n",
      "Epoch 110/150\n",
      "59500/59500 [==============================] - 5s 89us/step - loss: 0.0704 - categorical_accuracy: 0.9774\n",
      "Epoch 111/150\n",
      "59500/59500 [==============================] - 5s 89us/step - loss: 0.0695 - categorical_accuracy: 0.9781\n",
      "Epoch 112/150\n",
      "59500/59500 [==============================] - 5s 89us/step - loss: 0.0696 - categorical_accuracy: 0.9785\n",
      "Epoch 113/150\n",
      "59500/59500 [==============================] - 5s 89us/step - loss: 0.0656 - categorical_accuracy: 0.9791\n",
      "Epoch 114/150\n",
      "59500/59500 [==============================] - 5s 89us/step - loss: 0.0667 - categorical_accuracy: 0.9790\n",
      "Epoch 115/150\n",
      "59500/59500 [==============================] - 5s 89us/step - loss: 0.0707 - categorical_accuracy: 0.9784\n",
      "Epoch 116/150\n",
      "59500/59500 [==============================] - 5s 89us/step - loss: 0.0683 - categorical_accuracy: 0.9791\n",
      "Epoch 117/150\n",
      "59500/59500 [==============================] - 5s 89us/step - loss: 0.0679 - categorical_accuracy: 0.9785\n",
      "Epoch 118/150\n",
      "59500/59500 [==============================] - 5s 89us/step - loss: 0.0667 - categorical_accuracy: 0.9789\n",
      "Epoch 119/150\n",
      "59500/59500 [==============================] - 5s 89us/step - loss: 0.0734 - categorical_accuracy: 0.9775\n",
      "Epoch 120/150\n",
      "59500/59500 [==============================] - 5s 89us/step - loss: 0.0676 - categorical_accuracy: 0.9788\n",
      "Epoch 121/150\n",
      "59500/59500 [==============================] - 5s 89us/step - loss: 0.0702 - categorical_accuracy: 0.9780\n",
      "Epoch 122/150\n",
      "59500/59500 [==============================] - 5s 89us/step - loss: 0.0674 - categorical_accuracy: 0.9792\n",
      "Epoch 123/150\n",
      "59500/59500 [==============================] - 5s 89us/step - loss: 0.0660 - categorical_accuracy: 0.9798\n",
      "Epoch 124/150\n",
      "59500/59500 [==============================] - 5s 89us/step - loss: 0.0690 - categorical_accuracy: 0.9786\n",
      "Epoch 125/150\n",
      "59500/59500 [==============================] - 5s 89us/step - loss: 0.0715 - categorical_accuracy: 0.9778\n",
      "Epoch 126/150\n",
      "59500/59500 [==============================] - 5s 89us/step - loss: 0.0661 - categorical_accuracy: 0.9798\n",
      "Epoch 127/150\n",
      "59500/59500 [==============================] - 5s 91us/step - loss: 0.0665 - categorical_accuracy: 0.9794\n",
      "Epoch 128/150\n",
      "59500/59500 [==============================] - 6s 106us/step - loss: 0.0667 - categorical_accuracy: 0.9794\n",
      "Epoch 129/150\n",
      "59500/59500 [==============================] - 6s 98us/step - loss: 0.0664 - categorical_accuracy: 0.9796\n",
      "Epoch 130/150\n",
      "59500/59500 [==============================] - 5s 92us/step - loss: 0.0670 - categorical_accuracy: 0.9796\n",
      "Epoch 131/150\n",
      "59500/59500 [==============================] - 5s 91us/step - loss: 0.0699 - categorical_accuracy: 0.9785\n",
      "Epoch 132/150\n",
      "59500/59500 [==============================] - 6s 95us/step - loss: 0.0683 - categorical_accuracy: 0.9795\n",
      "Epoch 133/150\n",
      "59500/59500 [==============================] - 6s 97us/step - loss: 0.0651 - categorical_accuracy: 0.9797\n",
      "Epoch 134/150\n",
      "59500/59500 [==============================] - 5s 88us/step - loss: 0.0677 - categorical_accuracy: 0.9792\n",
      "Epoch 135/150\n",
      "59500/59500 [==============================] - 6s 97us/step - loss: 0.0676 - categorical_accuracy: 0.9791\n",
      "Epoch 136/150\n",
      "59500/59500 [==============================] - 5s 90us/step - loss: 0.0693 - categorical_accuracy: 0.9783\n",
      "Epoch 137/150\n"
     ]
    },
    {
     "name": "stdout",
     "output_type": "stream",
     "text": [
      "59500/59500 [==============================] - 5s 91us/step - loss: 0.0686 - categorical_accuracy: 0.9787\n",
      "Epoch 138/150\n",
      "59500/59500 [==============================] - 6s 94us/step - loss: 0.0645 - categorical_accuracy: 0.9798\n",
      "Epoch 139/150\n",
      "59500/59500 [==============================] - 6s 96us/step - loss: 0.0683 - categorical_accuracy: 0.9792\n",
      "Epoch 140/150\n",
      "59500/59500 [==============================] - 6s 100us/step - loss: 0.0657 - categorical_accuracy: 0.9796\n",
      "Epoch 141/150\n",
      "59500/59500 [==============================] - 6s 101us/step - loss: 0.0674 - categorical_accuracy: 0.9787\n",
      "Epoch 142/150\n",
      "59500/59500 [==============================] - 6s 99us/step - loss: 0.0685 - categorical_accuracy: 0.9796\n",
      "Epoch 143/150\n",
      "59500/59500 [==============================] - 6s 94us/step - loss: 0.0664 - categorical_accuracy: 0.9795\n",
      "Epoch 144/150\n",
      "59500/59500 [==============================] - 6s 93us/step - loss: 0.0682 - categorical_accuracy: 0.9790\n",
      "Epoch 145/150\n",
      "59500/59500 [==============================] - 6s 93us/step - loss: 0.0671 - categorical_accuracy: 0.9788\n",
      "Epoch 146/150\n",
      "59500/59500 [==============================] - 6s 93us/step - loss: 0.0656 - categorical_accuracy: 0.9795\n",
      "Epoch 147/150\n",
      "59500/59500 [==============================] - 6s 98us/step - loss: 0.0678 - categorical_accuracy: 0.9797 1s - l\n",
      "Epoch 148/150\n",
      "59500/59500 [==============================] - 6s 96us/step - loss: 0.0664 - categorical_accuracy: 0.9791\n",
      "Epoch 149/150\n",
      "59500/59500 [==============================] - 6s 97us/step - loss: 0.0657 - categorical_accuracy: 0.9797\n",
      "Epoch 150/150\n",
      "59500/59500 [==============================] - 6s 93us/step - loss: 0.0660 - categorical_accuracy: 0.9793\n",
      "Time taken for NN Execution is 803.8301215171814\n"
     ]
    }
   ],
   "source": [
    "start_time = time.time()\n",
    "nn_model.fit(X_train, y_train, epochs=150, batch_size=10)\n",
    "end_time = time.time()\n",
    "print(f\"Time taken for NN Execution is {end_time - start_time}\")"
   ]
  },
  {
   "cell_type": "markdown",
   "metadata": {},
   "source": [
    "Accuracy on Training Data"
   ]
  },
  {
   "cell_type": "code",
   "execution_count": 14,
   "metadata": {},
   "outputs": [
    {
     "name": "stdout",
     "output_type": "stream",
     "text": [
      "59500/59500 [==============================] - 1s 12us/step\n",
      "\n",
      "categorical_accuracy: 99.58%\n"
     ]
    }
   ],
   "source": [
    "scores_train = nn_model.evaluate(X_train, y_train)\n",
    "print(\"\\n%s: %.2f%%\" % (nn_model.metrics_names[1], scores_train[1]*100))"
   ]
  },
  {
   "cell_type": "markdown",
   "metadata": {},
   "source": [
    "Accuracy on Test Data"
   ]
  },
  {
   "cell_type": "code",
   "execution_count": 15,
   "metadata": {},
   "outputs": [
    {
     "name": "stdout",
     "output_type": "stream",
     "text": [
      "10500/10500 [==============================] - 0s 11us/step\n",
      "\n",
      "categorical_accuracy: 97.13%\n"
     ]
    }
   ],
   "source": [
    "scores_test = nn_model.evaluate(X_test, y_test)\n",
    "print(\"\\n%s: %.2f%%\" % (nn_model.metrics_names[1], scores_test[1]*100))"
   ]
  },
  {
   "cell_type": "code",
   "execution_count": 16,
   "metadata": {},
   "outputs": [
    {
     "data": {
      "text/plain": [
       "(28000,)"
      ]
     },
     "execution_count": 16,
     "metadata": {},
     "output_type": "execute_result"
    }
   ],
   "source": [
    "predictions = nn_model.predict(X_pred)\n",
    "predictions = np.argmax(predictions, axis = 1)\n",
    "predictions.shape"
   ]
  },
  {
   "cell_type": "code",
   "execution_count": 17,
   "metadata": {},
   "outputs": [],
   "source": [
    "#plot(X_test, 2)"
   ]
  },
  {
   "cell_type": "code",
   "execution_count": 18,
   "metadata": {},
   "outputs": [],
   "source": [
    "sub['Label'] = predictions\n",
    "sub.to_csv(DIR_PATH + \"submission_1.csv\", index = False)"
   ]
  }
 ],
 "metadata": {
  "kernelspec": {
   "display_name": "Python 3",
   "language": "python",
   "name": "python3"
  },
  "language_info": {
   "codemirror_mode": {
    "name": "ipython",
    "version": 3
   },
   "file_extension": ".py",
   "mimetype": "text/x-python",
   "name": "python",
   "nbconvert_exporter": "python",
   "pygments_lexer": "ipython3",
   "version": "3.7.3"
  },
  "pycharm": {
   "stem_cell": {
    "cell_type": "raw",
    "metadata": {
     "collapsed": false
    },
    "source": []
   }
  }
 },
 "nbformat": 4,
 "nbformat_minor": 1
}